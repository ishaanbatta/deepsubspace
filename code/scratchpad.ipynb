{
 "cells": [
  {
   "cell_type": "markdown",
   "metadata": {},
   "source": [
    "## Imports"
   ]
  },
  {
   "cell_type": "code",
   "execution_count": 1,
   "metadata": {},
   "outputs": [
    {
     "name": "stderr",
     "output_type": "stream",
     "text": [
      "/data/users2/ibatta/venv/conda/anaconda/envs/AA_DL2/lib/python3.7/site-packages/nilearn/__init__.py:67: FutureWarning: Python 3.7 support is deprecated and will be removed in release 0.12 of Nilearn. Consider switching to Python 3.9 or 3.10.\n",
      "  _python_deprecation_warnings()\n"
     ]
    }
   ],
   "source": [
    "import numpy as np \n",
    "from sklearn.model_selection import RepeatedKFold\n",
    "import nibabel as nib\n",
    "from nilearn import plotting\n",
    "from scipy.io import loadmat, savemat\n",
    "from importlib import reload\n",
    "import pickle\n",
    "import matplotlib.pyplot as plt \n",
    "import seaborn as sns\n",
    "import scipy"
   ]
  },
  {
   "cell_type": "code",
   "execution_count": 2,
   "metadata": {},
   "outputs": [],
   "source": [
    "from sklearn.model_selection import train_test_split\n",
    "import os, sys\n",
    "import numpy as np\n",
    "import pdb\n",
    "import argparse\n",
    "import json \n",
    "import subprocess\n",
    "import pandas as pd\n",
    "import glob\n",
    "from scipy.stats import ttest_1samp, ttest_ind, zscore, pearsonr\n",
    "from statsmodels.stats.multitest import fdrcorrection, multipletests\n",
    "from mne.stats import fdr_correction\n",
    "from sklearn.preprocessing import OneHotEncoder\n",
    "import pickle"
   ]
  },
  {
   "cell_type": "code",
   "execution_count": 3,
   "metadata": {},
   "outputs": [
    {
     "name": "stderr",
     "output_type": "stream",
     "text": [
      "/data/users2/ibatta/venv/conda/anaconda/envs/AA_DL2/lib/python3.7/site-packages/ipykernel/ipkernel.py:287: DeprecationWarning: `should_run_async` will not call `transform_cell` automatically in the future. Please pass the result to `transformed_cell` argument and any exception that happen during thetransform in `preprocessing_exc_tuple` in IPython 7.17 and above.\n",
      "  and should_run_async(code)\n"
     ]
    }
   ],
   "source": [
    "import sys\n",
    "sys.path.insert(1,'../../tfxst/vision_transformers/')\n",
    "\n"
   ]
  },
  {
   "cell_type": "code",
   "execution_count": null,
   "metadata": {},
   "outputs": [],
   "source": [
    "\n",
    "filepath = '/data/users2/ibatta/data/features/SFNC/CSZ/CSZ_new.mat'\n"
   ]
  },
  {
   "cell_type": "code",
   "execution_count": null,
   "metadata": {},
   "outputs": [],
   "source": [
    "import mat73\n",
    "data = mat73.loadmat(filepath)"
   ]
  },
  {
   "cell_type": "code",
   "execution_count": null,
   "metadata": {},
   "outputs": [],
   "source": [
    "savemat(filepath, data)\n"
   ]
  },
  {
   "cell_type": "code",
   "execution_count": null,
   "metadata": {},
   "outputs": [],
   "source": [
    "d = loadmat(filepath)"
   ]
  },
  {
   "cell_type": "code",
   "execution_count": null,
   "metadata": {},
   "outputs": [],
   "source": [
    "d['analysis_subjlist_finished'] == data['analysis_subjlist_finished']"
   ]
  },
  {
   "cell_type": "code",
   "execution_count": null,
   "metadata": {},
   "outputs": [],
   "source": [
    "d['sFNC'].shape"
   ]
  },
  {
   "cell_type": "code",
   "execution_count": null,
   "metadata": {},
   "outputs": [],
   "source": [
    "np.array(data['analysis_subjlist_finished']) == np.array(d['analysis_subjlist_finished'])"
   ]
  },
  {
   "cell_type": "code",
   "execution_count": null,
   "metadata": {},
   "outputs": [],
   "source": [
    "import pandas as pd\n",
    "import numpy as np\n",
    "\n",
    "d = pd.read_csv('/data/users2/ibatta/projects/deepsubspace/in/analysis_SCORE_SMRI_relP_imputed.csv')"
   ]
  },
  {
   "cell_type": "code",
   "execution_count": null,
   "metadata": {},
   "outputs": [],
   "source": [
    "d"
   ]
  },
  {
   "cell_type": "code",
   "execution_count": null,
   "metadata": {},
   "outputs": [],
   "source": [
    "d['age'].values.mean(), d['age'].values.std(), d['age'].values.min(), d['age'].values.max()"
   ]
  },
  {
   "cell_type": "code",
   "execution_count": null,
   "metadata": {},
   "outputs": [],
   "source": [
    "d['MMSE'].values.mean(), d['MMSE'].values.std(), d['MMSE'].values.min(), d['MMSE'].values.max()"
   ]
  },
  {
   "cell_type": "code",
   "execution_count": null,
   "metadata": {},
   "outputs": [],
   "source": [
    "(d['labels3way'] == 1).sum(), (d['labels3way'] == 2).sum(), (d['labels3way'] == 3).sum()"
   ]
  },
  {
   "cell_type": "code",
   "execution_count": null,
   "metadata": {},
   "outputs": [],
   "source": []
  },
  {
   "cell_type": "code",
   "execution_count": null,
   "metadata": {},
   "outputs": [],
   "source": [
    "import h5py\n",
    "\n",
    "def read_matlab(filename):\n",
    "    def conv(path=''):\n",
    "        p = path or '/'\n",
    "        paths[p] = ret = {}\n",
    "        for k, v in f[p].items():\n",
    "            if type(v).__name__ == 'Group':\n",
    "                ret[k] = conv(f'{path}/{k}')  # Nested struct\n",
    "                continue\n",
    "            v = v[()]  # It's a Numpy array now\n",
    "            if v.dtype == 'object':\n",
    "                # HDF5ObjectReferences are converted into a list of actual pointers\n",
    "                ret[k] = [r and paths.get(f[r].name, f[r].name) for r in v.flat]\n",
    "            else:\n",
    "                # Matrices and other numeric arrays\n",
    "                ret[k] = v if v.ndim < 2 else v.swapaxes(-1, -2)\n",
    "        return ret\n",
    "\n",
    "    paths = {}\n",
    "    with h5py.File(filename, 'r') as f:\n",
    "        return conv()\n",
    "    \n"
   ]
  },
  {
   "cell_type": "code",
   "execution_count": null,
   "metadata": {},
   "outputs": [],
   "source": [
    "data = read_matlab(filepath)"
   ]
  },
  {
   "cell_type": "code",
   "execution_count": null,
   "metadata": {},
   "outputs": [],
   "source": []
  },
  {
   "cell_type": "code",
   "execution_count": null,
   "metadata": {},
   "outputs": [],
   "source": [
    "\n",
    "data = {}\n",
    "with h5py.File(filepath) as f:\n",
    "    for k,v in f.items():\n",
    "        data[k] = v\n"
   ]
  },
  {
   "cell_type": "code",
   "execution_count": null,
   "metadata": {},
   "outputs": [],
   "source": [
    "import hdf5storage\n",
    "\n",
    "data = hdf5storage.loadmat(filepath)\n",
    "data.keys()"
   ]
  },
  {
   "cell_type": "code",
   "execution_count": null,
   "metadata": {},
   "outputs": [],
   "source": []
  },
  {
   "cell_type": "code",
   "execution_count": null,
   "metadata": {},
   "outputs": [],
   "source": [
    "data['sFNC'].shape"
   ]
  },
  {
   "cell_type": "code",
   "execution_count": null,
   "metadata": {},
   "outputs": [],
   "source": [
    "data['analysis_subjlist_finished']"
   ]
  },
  {
   "cell_type": "code",
   "execution_count": null,
   "metadata": {},
   "outputs": [],
   "source": [
    "[(k,len(v)) for k,v in d.items()]\n",
    "\n"
   ]
  },
  {
   "cell_type": "code",
   "execution_count": null,
   "metadata": {},
   "outputs": [],
   "source": [
    "d['analysis_subjlist_finished'][]"
   ]
  },
  {
   "cell_type": "code",
   "execution_count": null,
   "metadata": {},
   "outputs": [],
   "source": [
    "salvrs = 'sal_gmr_fwhm20,sal_gmr_fwhm12,sal_gmr_fwhm5,sal_gmr_absol_fwhm20,sal_gmr_absol_fwhm12,sal_gmr_absol_fwhm5'.split(',')"
   ]
  },
  {
   "cell_type": "code",
   "execution_count": null,
   "metadata": {},
   "outputs": [],
   "source": [
    "from sklearn.model_selection import StratifiedKFold, RepeatedStratifiedKFold"
   ]
  },
  {
   "cell_type": "markdown",
   "metadata": {},
   "source": [
    "## Visualize Saliency"
   ]
  },
  {
   "cell_type": "code",
   "execution_count": null,
   "metadata": {},
   "outputs": [],
   "source": [
    "import nibabel as nib\n",
    "import utils as ut\n",
    "import numpy as np\n",
    "import os\n",
    "import glob\n",
    "\n"
   ]
  },
  {
   "cell_type": "code",
   "execution_count": null,
   "metadata": {},
   "outputs": [],
   "source": [
    "def loadbin(binfile):\n",
    "    data = np.fromfile(binfile)\n",
    "    dshape = np.fromfile(os.path.splitext(binfile)[0] + '.shp', dtype=int)\n",
    "    data = data.reshape(dshape)\n",
    "    return data\n",
    "\n",
    "def savebin(data, binfile):\n",
    "    data.tofile(binfile)\n",
    "    np.array(data.shape).tofile(os.path.splitext(binfile)[0] + '.shp')\n",
    "\n",
    "def bin2niimap(binfile, masks):\n",
    "    cursal = loadbin(binfile)\n",
    "    nsub, nv = cursal.shape\n",
    "    nch, nx, ny, nz = masks.shape\n",
    "    \n",
    "    smap = np.zeros([nsub, nch, nx, ny, nz])\n",
    "    smap[:,0,(masks[0] == 1)] = cursal\n",
    "    smap =  np.moveaxis(smap.squeeze(axis=1),0,-1)\n",
    "    \n",
    "    return smap\n",
    "    "
   ]
  },
  {
   "cell_type": "code",
   "execution_count": null,
   "metadata": {},
   "outputs": [],
   "source": [
    "basedir = '../out/results/ADNIt1/mt_AN3DdrhrMx_fkey_hT1_scorename_age_iter_110_nc_1_rep_0_bs_32_lr_0.001_espat_40_sf_4/'\n",
    "# basedir = '../out/results/ADNIt1/mt_AN3DdrhrMx_fkey_hT1_scorename_MMSE_iter_110_nc_1_rep_0_bs_32_lr_0.01_espat_60_sf_4/'\n",
    "\n",
    "\n",
    "cfg = ut.loadCfg(basedir + 'config.pkl')\n",
    "masks = ut.loadMasks(cfg)\n",
    "maskObj = ut.loadMasks(cfg, nibObjectsOnly=True)\n",
    "nch, nx, ny, nz = masks.shape\n",
    "\n",
    "\n",
    "varname = 'sal12gmr'\n",
    "md = 'te'"
   ]
  },
  {
   "cell_type": "code",
   "execution_count": null,
   "metadata": {},
   "outputs": [],
   "source": [
    "for fname in glob.glob(basedir + 'filters/sal12*.bin'):\n",
    "# fname = basedir + '/%sReshaped_%s.bin'%(varname,md)\n",
    "    # cursal = np.fromfile(fname)\n",
    "    # cursalshape = np.fromfile(os.path.splitext(fname)[0] + '.shp', dtype=int)\n",
    "    # cursal = cursal.reshape(cursalshape)\n",
    "\n",
    "    # nsub, nv = cursal.shape\n",
    "    print(fname)\n",
    "    smap = bin2niimap(fname, masks)\n",
    "    # Save first 10 subject maps for checking\n",
    "    fp, ext = os.path.splitext(fname)\n",
    "    nib.save(nib.Nifti1Image(smap[:,:,:,:10], affine=maskObj[0].affine, header=maskObj[0].header), fp+'_1to10.nii' )\n",
    "    \n"
   ]
  },
  {
   "cell_type": "code",
   "execution_count": null,
   "metadata": {},
   "outputs": [],
   "source": []
  },
  {
   "cell_type": "markdown",
   "metadata": {},
   "source": [
    "## ICA on Subspaces"
   ]
  },
  {
   "cell_type": "code",
   "execution_count": 4,
   "metadata": {},
   "outputs": [],
   "source": [
    "import utils as ut\n",
    "import pickle \n",
    "import numpy as np \n",
    "import nibabel as nib \n",
    "import networkx as nx\n",
    "import seaborn as sns\n",
    "import matplotlib.pyplot as plt\n",
    "import networkx as nx\n",
    "from scipy.stats import zscore \n",
    "\n",
    "from nilearn.plotting import plot_stat_map\n",
    "from nilearn import image\n",
    "\n",
    "import os\n",
    "\n",
    "from learning import scale_data"
   ]
  },
  {
   "cell_type": "code",
   "execution_count": null,
   "metadata": {},
   "outputs": [],
   "source": []
  },
  {
   "cell_type": "code",
   "execution_count": 49,
   "metadata": {},
   "outputs": [],
   "source": [
    "nreps = 10\n",
    "\n",
    "md = 'te'\n",
    "varnames = 'sal12,sal12absol,sal12gmrabsol,sal12gmr'.split(',')\n",
    "\n",
    "basedirs = {'age':'../out/results/ADNIt1/mt_AN3DdrhrMx_fkey_hT1_scorename_age_iter_110_nc_1_rep_0_bs_32_lr_0.001_espat_40_sf_4/',\n",
    "'MMSE' : '../out/results/ADNIt1/mt_AN3DdrhrMx_fkey_hT1_scorename_MMSE_iter_110_nc_1_rep_0_bs_32_lr_0.01_espat_60_sf_4/'}\n",
    "\n",
    "\n",
    "targetvars = ['age','MMSE']\n",
    "\n",
    "varname = 'sal_gmr_fwhm12'\n",
    "targetvar = 'MMSE'\n",
    "basedir = basedirs[targetvar]\n",
    "\n",
    "cfg = ut.loadCfg(basedir + '/config.pkl')\n",
    "\n",
    "nc_pca, nc_ica = 1000, 10\n"
   ]
  },
  {
   "cell_type": "markdown",
   "metadata": {},
   "source": [
    "### Summarize Correlations"
   ]
  },
  {
   "cell_type": "code",
   "execution_count": null,
   "metadata": {},
   "outputs": [],
   "source": []
  },
  {
   "cell_type": "code",
   "execution_count": 50,
   "metadata": {},
   "outputs": [
    {
     "name": "stdout",
     "output_type": "stream",
     "text": [
      "Loading class variables..\n"
     ]
    }
   ],
   "source": [
    "# def summarize_gica(basedir, md, varname, targetvar, nc_pca=100, nc_ica=10):\n",
    "# # def summarize_gica(basedir, md, varname, targetvar, nc_pca=100, nc_ica=10):\n",
    "\n",
    "outdir =  basedir + '/groupICA/pca_%d_ica_%d/'%(nc_pca, nc_ica)\n",
    "\n",
    "## Load target variables and class labels\n",
    "print('Loading class variables..')\n",
    "\n",
    "labels = {'age':[],'MMSE':[],'dx':[]}\n",
    "cls = []\n",
    "\n",
    "for i in range(nreps):\n",
    "    curbasedir = basedir.replace('iter_110','iter_11%d'%i).replace('rep_0','rep_%d'%i)\n",
    "    fname = curbasedir + 'labels_%s.txt'%md\n",
    "    labels[targetvar].append(np.loadtxt(fname, delimiter=','))\n",
    "    cfg = ut.loadCfg(curbasedir + 'config_test.pkl')\n",
    "    df = ut.readFramesSeparately(cfg.sm, cfg.ssd, md, i)\n",
    "    cls.append(df['labels3way'])\n",
    "    \n",
    "labels[targetvar] = np.hstack(labels[targetvar])\n",
    "cls = np.hstack(cls).squeeze()\n",
    "\n"
   ]
  },
  {
   "cell_type": "code",
   "execution_count": 51,
   "metadata": {},
   "outputs": [
    {
     "data": {
      "text/plain": [
       "(468, 332, 933, 1733)"
      ]
     },
     "execution_count": 51,
     "metadata": {},
     "output_type": "execute_result"
    }
   ],
   "source": [
    "(cls == 1).sum(), (cls == 2).sum(), (cls == 3).sum(), len(cls)"
   ]
  },
  {
   "cell_type": "code",
   "execution_count": 52,
   "metadata": {},
   "outputs": [
    {
     "name": "stdout",
     "output_type": "stream",
     "text": [
      "Loading computed gICA results..\n"
     ]
    }
   ],
   "source": [
    "\n",
    "\n",
    "# Load computed gica results\n",
    "print('Loading computed gICA results..')\n",
    "\n",
    "gpca_comp_fname = outdir  + '%s_%s_groupPCAEigenVectors.pkl'%(varname,md)\n",
    "with open(gpca_comp_fname, 'rb') as f:\n",
    "    gpca_components = pickle.load(f)\n",
    "gpca_loadings_fname = outdir + '%s_%s_groupPCAloadings.pkl'%(varname,md)\n",
    "with open(gpca_loadings_fname, 'rb') as f:\n",
    "    gpca_loadings = pickle.load(f)\n",
    "gpca_evr_fname = outdir + '%s_%s_groupPCAExplainedVarianceRatio.pkl'%(varname,md)\n",
    "with open(gpca_evr_fname, 'rb') as f:\n",
    "    gpca_evr = pickle.load(f)\n",
    "\n",
    "# gica_comp_fname = basedir + '%s_%s_groupICAcomponents.pkl'%(varname,md)\n",
    "# with open(gica_comp_fname, 'rb') as f:\n",
    "#     gica_components = pickle.load(f)\n",
    "gica_loadings_fname = outdir + '%s_%s_groupICAloadings.pkl'%(varname,md)\n",
    "with open(gica_loadings_fname, 'rb') as f:\n",
    "    gica_loadings = pickle.load(f)\n",
    "    \n",
    "with open(outdir + '%s_%s_groupICAreconComponents.pkl'%(varname,md),'rb') as f:\n",
    "    recon_components = pickle.load(f)\n",
    "\n"
   ]
  },
  {
   "cell_type": "code",
   "execution_count": 23,
   "metadata": {},
   "outputs": [],
   "source": [
    "p10f = basedir + '/groupICA/pca_10_ica_10/' + '%s_%s_groupICAcomponents.pkl'%(varname,md)\n",
    "with open(p10f,'rb') as pf: \n",
    "    p10 = pickle.load(pf)\n",
    "    # p10 = zscore(p10, axis=1)\n",
    "p30f = basedir + '/groupICA/pca_30_ica_10/' + '%s_%s_groupICAcomponents.pkl'%(varname,md)\n",
    "with open(p30f,'rb') as pf: \n",
    "    p30 = pickle.load(pf)\n",
    "    # p30 = zscore(p30, axis=1)\n"
   ]
  },
  {
   "cell_type": "code",
   "execution_count": 24,
   "metadata": {},
   "outputs": [
    {
     "data": {
      "text/plain": [
       "((10, 10), (30, 10))"
      ]
     },
     "execution_count": 24,
     "metadata": {},
     "output_type": "execute_result"
    }
   ],
   "source": [
    "p10.shape, p30.shape"
   ]
  },
  {
   "cell_type": "code",
   "execution_count": 27,
   "metadata": {},
   "outputs": [
    {
     "data": {
      "text/plain": [
       "0.0006197714272400472"
      ]
     },
     "execution_count": 27,
     "metadata": {},
     "output_type": "execute_result"
    }
   ],
   "source": [
    "np.linalg.norm( np.abs(p10[:10,:]) - np.abs(p30[:10,:]), ord=1)"
   ]
  },
  {
   "cell_type": "code",
   "execution_count": 30,
   "metadata": {},
   "outputs": [
    {
     "name": "stderr",
     "output_type": "stream",
     "text": [
      "/data/users2/ibatta/venv/conda/anaconda/envs/AA_DL2/lib/python3.7/site-packages/ipykernel/ipkernel.py:287: DeprecationWarning: `should_run_async` will not call `transform_cell` automatically in the future. Please pass the result to `transformed_cell` argument and any exception that happen during thetransform in `preprocessing_exc_tuple` in IPython 7.17 and above.\n",
      "  and should_run_async(code)\n"
     ]
    },
    {
     "data": {
      "text/plain": [
       "array([8.50823292e-05, 6.15347495e-05, 1.27908590e-04, 1.13563926e-04,\n",
       "       9.06541019e-05, 6.10090720e-05, 1.13266820e-04, 8.78761391e-05,\n",
       "       1.02935649e-04, 2.77927518e-05, 2.49034902e-19, 1.43859578e-20,\n",
       "       2.30410349e-20, 1.01986852e-19, 2.56892892e-20, 5.33020626e-19,\n",
       "       6.52842871e-20, 1.45876979e-20, 3.35791973e-20, 5.55977696e-21,\n",
       "       2.86817105e-20, 1.55830539e-20, 1.97017651e-20, 4.81975759e-20,\n",
       "       1.42277330e-19, 2.83645374e-20, 3.39528319e-21, 4.63396877e-20,\n",
       "       8.76141238e-21, 7.50593673e-21])"
      ]
     },
     "execution_count": 30,
     "metadata": {},
     "output_type": "execute_result"
    }
   ],
   "source": [
    "p30.max(axis=1)"
   ]
  },
  {
   "cell_type": "code",
   "execution_count": null,
   "metadata": {},
   "outputs": [],
   "source": []
  },
  {
   "cell_type": "code",
   "execution_count": 53,
   "metadata": {},
   "outputs": [
    {
     "name": "stdout",
     "output_type": "stream",
     "text": [
      "Standardizing results..\n"
     ]
    }
   ],
   "source": [
    "\n",
    "# Scaling of results \n",
    "print('Standardizing results..')\n",
    "\n",
    "# recon_components = zscore(recon_components, axis=0)\n",
    "# gica_loadings = scale_data(gica_loadings.T, scaling='zscore').T\n",
    "# gpca_loadings = scale_data(gpca_loadings.T, scaling='zscore').T\n",
    "\n",
    "recon_components = zscore(recon_components, axis=0)\n",
    "gica_loadings = zscore(gica_loadings, axis=1)\n",
    "gpca_loadings = zscore(gpca_loadings, axis=1)"
   ]
  },
  {
   "cell_type": "code",
   "execution_count": 45,
   "metadata": {},
   "outputs": [
    {
     "name": "stderr",
     "output_type": "stream",
     "text": [
      "/data/users2/ibatta/venv/conda/anaconda/envs/AA_DL2/lib/python3.7/site-packages/ipykernel/ipkernel.py:287: DeprecationWarning: `should_run_async` will not call `transform_cell` automatically in the future. Please pass the result to `transformed_cell` argument and any exception that happen during thetransform in `preprocessing_exc_tuple` in IPython 7.17 and above.\n",
      "  and should_run_async(code)\n"
     ]
    },
    {
     "data": {
      "text/plain": [
       "((476991, 10), (10, 1733), (476991, 100))"
      ]
     },
     "execution_count": 45,
     "metadata": {},
     "output_type": "execute_result"
    }
   ],
   "source": [
    "recon_components.shape, gica_loadings.shape, gpca_components.shape"
   ]
  },
  {
   "cell_type": "markdown",
   "metadata": {},
   "source": [
    "### PCA Explained variance"
   ]
  },
  {
   "cell_type": "code",
   "execution_count": 54,
   "metadata": {},
   "outputs": [
    {
     "data": {
      "text/plain": [
       "(1000,)"
      ]
     },
     "execution_count": 54,
     "metadata": {},
     "output_type": "execute_result"
    }
   ],
   "source": [
    "gpca_evr.shape"
   ]
  },
  {
   "cell_type": "code",
   "execution_count": 56,
   "metadata": {},
   "outputs": [
    {
     "name": "stderr",
     "output_type": "stream",
     "text": [
      "/data/users2/ibatta/venv/conda/anaconda/envs/AA_DL2/lib/python3.7/site-packages/ipykernel/ipkernel.py:287: DeprecationWarning: `should_run_async` will not call `transform_cell` automatically in the future. Please pass the result to `transformed_cell` argument and any exception that happen during thetransform in `preprocessing_exc_tuple` in IPython 7.17 and above.\n",
      "  and should_run_async(code)\n"
     ]
    },
    {
     "data": {
      "image/png": "[encoded data removed]",
      "text/plain": [
       "<Figure size 640x480 with 1 Axes>"
      ]
     },
     "metadata": {},
     "output_type": "display_data"
    }
   ],
   "source": [
    "plt.bar([str(i) for i in range(1000)], gpca_evr)\n",
    "plt.xticks([10,20])\n",
    "plt.show()"
   ]
  },
  {
   "cell_type": "code",
   "execution_count": 57,
   "metadata": {},
   "outputs": [
    {
     "name": "stderr",
     "output_type": "stream",
     "text": [
      "/data/users2/ibatta/venv/conda/anaconda/envs/AA_DL2/lib/python3.7/site-packages/ipykernel/ipkernel.py:287: DeprecationWarning: `should_run_async` will not call `transform_cell` automatically in the future. Please pass the result to `transformed_cell` argument and any exception that happen during thetransform in `preprocessing_exc_tuple` in IPython 7.17 and above.\n",
      "  and should_run_async(code)\n"
     ]
    },
    {
     "data": {
      "image/png": "[encoded data removed]",
      "text/plain": [
       "<Figure size 640x480 with 1 Axes>"
      ]
     },
     "metadata": {},
     "output_type": "display_data"
    }
   ],
   "source": [
    "plt.hist(gpca_evr, cumulative=True, density=True, histtype='step', bins=100)\n",
    "plt.show()"
   ]
  },
  {
   "cell_type": "code",
   "execution_count": null,
   "metadata": {},
   "outputs": [],
   "source": [
    "vthresh = 0.9\n",
    "xdata = np.arange(1,len(gpca_evr)+1)\n",
    "ydata = np.cumsum(gpca_evr) / gpca_evr.sum()\n",
    "plt.plot(xdata, ydata, c='blue', label='EVR-CDF')\n",
    "plt.plot(xdata, [vthresh for i in xdata], c='r', linestyle='--', label='vthresh')\n",
    "plt.title('Total EVR=%.3f'%gpca_evr.sum(), c='gray')\n",
    "plt.legend(loc='lower right')\n",
    "plt.show()"
   ]
  },
  {
   "cell_type": "code",
   "execution_count": null,
   "metadata": {},
   "outputs": [],
   "source": [
    "gpca_evr.sum()"
   ]
  },
  {
   "cell_type": "code",
   "execution_count": null,
   "metadata": {},
   "outputs": [],
   "source": [
    "gpca_loadings.shape, gica_loadings.shape, labels[targetvar].shape, cls.shape"
   ]
  },
  {
   "cell_type": "code",
   "execution_count": 58,
   "metadata": {},
   "outputs": [],
   "source": [
    "evr_files = np.sort( glob.glob(basedir + '/groupICA/pca_*_*ica_10/%s_%s*groupPCAExplainedVarianceRatio.pkl'%(varname,md)) )"
   ]
  },
  {
   "cell_type": "code",
   "execution_count": 59,
   "metadata": {},
   "outputs": [
    {
     "data": {
      "text/plain": [
       "array(['../out/results/ADNIt1/mt_AN3DdrhrMx_fkey_hT1_scorename_MMSE_iter_110_nc_1_rep_0_bs_32_lr_0.01_espat_60_sf_4//groupICA/pca_1000_ica_10/sal_gmr_fwhm12_te_groupPCAExplainedVarianceRatio.pkl',\n",
       "       '../out/results/ADNIt1/mt_AN3DdrhrMx_fkey_hT1_scorename_MMSE_iter_110_nc_1_rep_0_bs_32_lr_0.01_espat_60_sf_4//groupICA/pca_100_ica_10/sal_gmr_fwhm12_te_groupPCAExplainedVarianceRatio.pkl',\n",
       "       '../out/results/ADNIt1/mt_AN3DdrhrMx_fkey_hT1_scorename_MMSE_iter_110_nc_1_rep_0_bs_32_lr_0.01_espat_60_sf_4//groupICA/pca_10_ica_10/sal_gmr_fwhm12_te_groupPCAExplainedVarianceRatio.pkl',\n",
       "       '../out/results/ADNIt1/mt_AN3DdrhrMx_fkey_hT1_scorename_MMSE_iter_110_nc_1_rep_0_bs_32_lr_0.01_espat_60_sf_4//groupICA/pca_30_ica_10/sal_gmr_fwhm12_te_groupPCAExplainedVarianceRatio.pkl',\n",
       "       '../out/results/ADNIt1/mt_AN3DdrhrMx_fkey_hT1_scorename_MMSE_iter_110_nc_1_rep_0_bs_32_lr_0.01_espat_60_sf_4//groupICA/pca_500_ica_10/sal_gmr_fwhm12_te_groupPCAExplainedVarianceRatio.pkl'],\n",
       "      dtype='<U186')"
      ]
     },
     "execution_count": 59,
     "metadata": {},
     "output_type": "execute_result"
    }
   ],
   "source": [
    "np.sort(evr_files)"
   ]
  },
  {
   "cell_type": "code",
   "execution_count": 62,
   "metadata": {},
   "outputs": [
    {
     "data": {
      "image/png": "[encoded data removed]",
      "text/plain": [
       "<Figure size 640x480 with 1 Axes>"
      ]
     },
     "metadata": {},
     "output_type": "display_data"
    }
   ],
   "source": [
    "vthresh = 0.9\n",
    "f, ax = plt.subplots()\n",
    "pca_ords = [10,30,100,500,1000]\n",
    "for fi in range(len(evr_files)):\n",
    "    curfile = evr_files[fi]\n",
    "    with open(curfile,'rb') as fh:\n",
    "        cur_gpca_evr = pickle.load(fh)    \n",
    "    fh.close()\n",
    "    xdata = np.arange(1,len(cur_gpca_evr)+1)\n",
    "    ydata = np.cumsum(cur_gpca_evr) / cur_gpca_evr.sum()\n",
    "\n",
    "    \n",
    "    cursum = cur_gpca_evr.sum()\n",
    "    curlabel = curfile.split('/')[-2] + ' (%.2f)'%cursum\n",
    "    plt.plot(xdata, ydata, label=curlabel)\n",
    "\n",
    "\n",
    "# ax.plot(xdata, [vthresh for i in xdata], c='r', linestyle='--', label='vthresh')\n",
    "ax.plot([10,10], [0,1], c='gray', linestyle='--', label='num_ica_comp')\n",
    "ax.legend(loc='lower right')\n",
    "plt.xscale('log')\n",
    "plt.show()\n",
    "plt.close(f)"
   ]
  },
  {
   "cell_type": "markdown",
   "metadata": {},
   "source": [
    "### Prediction using loadings. "
   ]
  },
  {
   "cell_type": "code",
   "execution_count": 63,
   "metadata": {},
   "outputs": [],
   "source": [
    "# Prediction using loadings.\n",
    "import sys\n",
    "sys.path.insert(-1,'../../subspace/code/')\n",
    "from learning import compute_predictions_tuned\n",
    "\n",
    "from sklearn.model_selection import cross_val_score, GridSearchCV, ParameterGrid\n",
    "from sklearn.svm import SVR, SVC\n",
    "from sklearn.kernel_ridge import KernelRidge\n",
    "from sklearn.linear_model import Ridge, LogisticRegression\n",
    "from sklearn.metrics import r2_score, mean_absolute_error, accuracy_score, auc, precision_score, recall_score\n",
    "from scipy.stats import pearsonr"
   ]
  },
  {
   "cell_type": "code",
   "execution_count": 64,
   "metadata": {},
   "outputs": [],
   "source": [
    "clf_scores = {i:i for i in ['accuracy_score', 'auc', 'precision_score', 'recall_score']}\n",
    "reg_scores = {i:i for i in ['neg_mean_absolute_error','r2']}\n"
   ]
  },
  {
   "cell_type": "code",
   "execution_count": null,
   "metadata": {},
   "outputs": [],
   "source": [
    "sklearn.metrics.SCORERS.keys()"
   ]
  },
  {
   "cell_type": "code",
   "execution_count": 65,
   "metadata": {},
   "outputs": [],
   "source": [
    "params =ParameterGrid({'alpha':[[0.0001,0.001,0.01,0.1,1,10,20,50,75,100,150,200,500,1000]]})#, 'gamma':[[0.1,1,10]]})#, 'kernel': [[ 'rbf']] })\n",
    "# params =ParameterGrid({'C':[[0.001,0.01,0.1,1,10,100]], 'gamma':[[0.1,1,10]], 'kernel': [[ 'rbf']] })\n"
   ]
  },
  {
   "cell_type": "code",
   "execution_count": 66,
   "metadata": {},
   "outputs": [],
   "source": [
    "\n",
    "gsresult = GridSearchCV(estimator=Ridge(), n_jobs=16, param_grid=params, cv=10, scoring=reg_scores, refit='neg_mean_absolute_error').fit(gica_loadings.T, labels[targetvar])\n"
   ]
  },
  {
   "cell_type": "code",
   "execution_count": 67,
   "metadata": {},
   "outputs": [
    {
     "name": "stderr",
     "output_type": "stream",
     "text": [
      "/data/users2/ibatta/venv/conda/anaconda/envs/AA_DL2/lib/python3.7/site-packages/ipykernel/ipkernel.py:287: DeprecationWarning: `should_run_async` will not call `transform_cell` automatically in the future. Please pass the result to `transformed_cell` argument and any exception that happen during thetransform in `preprocessing_exc_tuple` in IPython 7.17 and above.\n",
      "  and should_run_async(code)\n"
     ]
    },
    {
     "data": {
      "text/plain": [
       "dict_keys(['mean_fit_time', 'std_fit_time', 'mean_score_time', 'std_score_time', 'param_alpha', 'params', 'split0_test_neg_mean_absolute_error', 'split1_test_neg_mean_absolute_error', 'split2_test_neg_mean_absolute_error', 'split3_test_neg_mean_absolute_error', 'split4_test_neg_mean_absolute_error', 'split5_test_neg_mean_absolute_error', 'split6_test_neg_mean_absolute_error', 'split7_test_neg_mean_absolute_error', 'split8_test_neg_mean_absolute_error', 'split9_test_neg_mean_absolute_error', 'mean_test_neg_mean_absolute_error', 'std_test_neg_mean_absolute_error', 'rank_test_neg_mean_absolute_error', 'split0_test_r2', 'split1_test_r2', 'split2_test_r2', 'split3_test_r2', 'split4_test_r2', 'split5_test_r2', 'split6_test_r2', 'split7_test_r2', 'split8_test_r2', 'split9_test_r2', 'mean_test_r2', 'std_test_r2', 'rank_test_r2'])"
      ]
     },
     "execution_count": 67,
     "metadata": {},
     "output_type": "execute_result"
    }
   ],
   "source": [
    "gsresult.cv_results_.keys()"
   ]
  },
  {
   "cell_type": "code",
   "execution_count": 68,
   "metadata": {},
   "outputs": [
    {
     "data": {
      "text/plain": [
       "(array([-3.31967078, -3.31963838, -3.31931454, -3.31608371, -3.28463658,\n",
       "        -3.0388389 , -2.86356525, -2.58367061, -2.46445152, -2.39432142,\n",
       "        -2.32079797, -2.28749886, -2.24334445, -2.24362072]),\n",
       " array([0.98998474, 0.98996326, 0.98974853, 0.98760659, 0.96679011,\n",
       "        0.80021642, 0.66686475, 0.41903877, 0.30561481, 0.24185468,\n",
       "        0.176481  , 0.14841492, 0.12485519, 0.11649726]))"
      ]
     },
     "execution_count": 68,
     "metadata": {},
     "output_type": "execute_result"
    }
   ],
   "source": [
    "gsresult.cv_results_['mean_test_neg_mean_absolute_error'], gsresult.cv_results_['std_test_neg_mean_absolute_error']\n"
   ]
  },
  {
   "cell_type": "code",
   "execution_count": 69,
   "metadata": {},
   "outputs": [
    {
     "data": {
      "text/plain": [
       "(array([-1.02408089, -1.02404365, -1.02367138, -1.01996155, -0.98411074,\n",
       "        -0.71765127, -0.53734443, -0.27460888, -0.17582462, -0.11818988,\n",
       "        -0.055881  , -0.02414071,  0.02696289,  0.03559206]),\n",
       " array([0.90770538, 0.90767843, 0.90740902, 0.90472481, 0.87882849,\n",
       "        0.6857963 , 0.54956405, 0.33112861, 0.23972333, 0.18345833,\n",
       "        0.12028017, 0.08748547, 0.03518054, 0.02392693]))"
      ]
     },
     "execution_count": 69,
     "metadata": {},
     "output_type": "execute_result"
    }
   ],
   "source": [
    "gsresult.cv_results_['mean_test_r2'], gsresult.cv_results_['std_test_r2']"
   ]
  },
  {
   "cell_type": "code",
   "execution_count": 76,
   "metadata": {},
   "outputs": [
    {
     "name": "stderr",
     "output_type": "stream",
     "text": [
      "/data/users2/ibatta/venv/conda/anaconda/envs/AA_DL2/lib/python3.7/site-packages/ipykernel/ipkernel.py:287: DeprecationWarning: `should_run_async` will not call `transform_cell` automatically in the future. Please pass the result to `transformed_cell` argument and any exception that happen during thetransform in `preprocessing_exc_tuple` in IPython 7.17 and above.\n",
      "  and should_run_async(code)\n"
     ]
    },
    {
     "data": {
      "text/plain": [
       "(1000, 1733)"
      ]
     },
     "execution_count": 76,
     "metadata": {},
     "output_type": "execute_result"
    }
   ],
   "source": [
    "gpca_loadings.shape"
   ]
  },
  {
   "cell_type": "code",
   "execution_count": 83,
   "metadata": {},
   "outputs": [],
   "source": [
    "## USING PCA LOADINGS\n",
    "\n",
    "\n",
    "# params =ParameterGrid({'C':[[0.1,1, 10]], 'gamma':[[0.1,1,10]], 'kernel': [[ 'rbf']] })\n",
    "gsresult = GridSearchCV(estimator=Ridge(), n_jobs=16, param_grid=params, cv=10, scoring=reg_scores, refit='neg_mean_absolute_error').fit(gpca_loadings[:10].T, labels[targetvar])\n"
   ]
  },
  {
   "cell_type": "code",
   "execution_count": 84,
   "metadata": {},
   "outputs": [
    {
     "name": "stderr",
     "output_type": "stream",
     "text": [
      "/data/users2/ibatta/venv/conda/anaconda/envs/AA_DL2/lib/python3.7/site-packages/ipykernel/ipkernel.py:287: DeprecationWarning: `should_run_async` will not call `transform_cell` automatically in the future. Please pass the result to `transformed_cell` argument and any exception that happen during thetransform in `preprocessing_exc_tuple` in IPython 7.17 and above.\n",
      "  and should_run_async(code)\n"
     ]
    },
    {
     "data": {
      "text/plain": [
       "(array([-3.31967078, -3.31963838, -3.31931454, -3.31608371, -3.28463658,\n",
       "        -3.0388389 , -2.86356525, -2.58367061, -2.46445152, -2.39432142,\n",
       "        -2.32079797, -2.28749886, -2.24334445, -2.24362072]),\n",
       " array([-1.02408089, -1.02404365, -1.02367138, -1.01996155, -0.98411074,\n",
       "        -0.71765127, -0.53734443, -0.27460888, -0.17582462, -0.11818988,\n",
       "        -0.055881  , -0.02414071,  0.02696289,  0.03559206]))"
      ]
     },
     "execution_count": 84,
     "metadata": {},
     "output_type": "execute_result"
    }
   ],
   "source": [
    "gsresult.cv_results_['mean_test_neg_mean_absolute_error'], gsresult.cv_results_['mean_test_r2']"
   ]
  },
  {
   "cell_type": "code",
   "execution_count": 72,
   "metadata": {},
   "outputs": [
    {
     "data": {
      "text/plain": [
       "(array([13]),)"
      ]
     },
     "execution_count": 72,
     "metadata": {},
     "output_type": "execute_result"
    }
   ],
   "source": [
    "np.where(gsresult.cv_results_['rank_test_neg_mean_absolute_error']==1)"
   ]
  },
  {
   "cell_type": "code",
   "execution_count": 85,
   "metadata": {},
   "outputs": [
    {
     "data": {
      "text/plain": [
       "(-2.2433444452553504, {'alpha': 500})"
      ]
     },
     "execution_count": 85,
     "metadata": {},
     "output_type": "execute_result"
    }
   ],
   "source": [
    "gsresult.best_score_, gsresult.best_params_"
   ]
  },
  {
   "cell_type": "code",
   "execution_count": 74,
   "metadata": {},
   "outputs": [
    {
     "data": {
      "text/plain": [
       "(1000,)"
      ]
     },
     "execution_count": 74,
     "metadata": {},
     "output_type": "execute_result"
    }
   ],
   "source": [
    "gsresult.best_estimator_.coef_.shape"
   ]
  },
  {
   "cell_type": "code",
   "execution_count": 75,
   "metadata": {},
   "outputs": [
    {
     "data": {
      "image/png": "[encoded data removed]",
      "text/plain": [
       "<Figure size 640x480 with 2 Axes>"
      ]
     },
     "metadata": {},
     "output_type": "display_data"
    }
   ],
   "source": [
    "f, ax = plt.subplots(nrows=2, ncols=1)\n",
    "coeffs = gsresult.best_estimator_.coef_\n",
    "barlabels = [str(i+1) for i in range(len(coeffs))]\n",
    "bar0 = ax[0].bar(barlabels, coeffs)\n",
    "bar1 = ax[1].bar(barlabels, coeffs)\n",
    "plt.xlabel('comp')\n",
    "ax[0].set_ylabel('coeff')\n",
    "plt.show()\n",
    "plt.close(f)"
   ]
  },
  {
   "cell_type": "markdown",
   "metadata": {},
   "source": [
    "### Correlation of target vars "
   ]
  },
  {
   "cell_type": "code",
   "execution_count": null,
   "metadata": {},
   "outputs": [],
   "source": [
    "\n",
    "# Correlation of target vars\n",
    "print('Performing correlation analysis with target variables..')\n",
    "comp_corrs = np.corrcoef(labels[targetvar].squeeze(), gica_loadings)\n",
    "label_corrs = comp_corrs[0][1:] # Skipping the first entry because that's self-correlation of labels (r=1)\n",
    "\n",
    "\n",
    "\n",
    "besti = np.abs(label_corrs).argsort()[-1]\n",
    "\n",
    "### Group ICA Results Summary on Saliency Maps\n",
    "\n",
    "f, ax = plt.subplots()\n",
    "barlabels = ['c%d'%(i+1) for i in range(len(label_corrs))]\n",
    "bar = ax.bar(barlabels, label_corrs, label=label_corrs)\n",
    "ax.bar_label(bar, labels=['%.2f'%li for li in  label_corrs], fontsize=9)\n",
    "ax.set_xticklabels(barlabels, rotation=90)\n",
    "plt.title('Correlation between gICA component loadings and target label (%s)'%targetvar + '\\n(pca_%d_ica_%d; %s_%s)'%(nc_pca, nc_ica, varname, md))\n",
    "plt.xlabel('gICA components')\n",
    "plt.ylabel('Correlation with %s'%targetvar)\n",
    "plt.show()\n",
    "# plt.savefig(outdir + '%s_%s_loadingsCorr.png'%(varname,md))\n",
    "plt.close()\n"
   ]
  },
  {
   "cell_type": "code",
   "execution_count": null,
   "metadata": {},
   "outputs": [],
   "source": [
    "\n",
    "\n",
    "## PLot best correlation\n",
    "\n",
    "# plt.scatter(labels[targetvar].squeeze(), gica_loadings[besti,:])\n",
    "f, ax = plt.subplots()\n",
    "sns.regplot(gica_loadings[besti,:], labels[targetvar].squeeze(), scatter_kws={'color':'gray'},line_kws={'color':'blue'}, robust=False)\n",
    "plt.xlabel('Loadings from component %d'%(besti+1))\n",
    "plt.ylabel(targetvar)\n",
    "plt.title('Plot for component loadings with highest correlation with target variable')\n",
    "plt.savefig(outdir + '%s_%s_bestComponentCorr.png'%(varname,md))\n",
    "plt.close()\n",
    "\n",
    "\n",
    "\n",
    "### Group Comparison of loadings\n",
    "print('Perfroming group comparison of gICA loadings..')\n",
    "\n",
    "## Group comparison of gPCA loadings\n",
    "f, ax = plt.subplots(nrows=2, ncols=5, figsize=(10,4), sharex=True)\n",
    "f.suptitle('Group comparison of gPCA loadings')\n",
    "for ci in range(gica_loadings.shape[0]):\n",
    "    \n",
    "    ax[ci // 5, ci % 5].boxplot([gpca_loadings[ci,cls==1], gpca_loadings[ci,cls==2], gpca_loadings[ci,cls==3]], labels=['CN','AD','MCI'])\n",
    "    ax[ci // 5, ci % 5].set_title('Component %d'%(ci+1))\n",
    "    \n",
    "\n",
    "plt.savefig(outdir + '%s_%s_gPCAgroupComparison.png'%(varname,md))\n",
    "plt.close()\n",
    "\n",
    "\n",
    "## Group comparison of gICA loadings\n",
    "f, ax = plt.subplots(nrows=2, ncols=5, figsize=(10,4), sharex=True)\n",
    "f.suptitle('Group comparison of gICA loadings')\n",
    "for ci in range(gica_loadings.shape[0]):\n",
    "    \n",
    "    ax[ci // 5, ci % 5].boxplot([gica_loadings[ci,cls==1], gica_loadings[ci,cls==2], gica_loadings[ci,cls==3]], labels=['CN','AD','MCI'])\n",
    "    ax[ci // 5, ci % 5].set_title('Component %d'%(ci+1))\n",
    "    \n",
    "\n",
    "plt.savefig(outdir + '%s_%s_gICAgroupComparison.png'%(varname,md))\n",
    "plt.close()\n",
    "\n",
    "\n",
    "\n",
    "\n",
    "### Save Group ICA maps \n",
    "print('Saving gICA component maps as nii..')\n",
    "\n",
    "nsub, nc = recon_components.shape\n",
    "\n",
    "cfg = ut.loadCfg(basedir + 'config.pkl')\n",
    "masks = ut.loadMasks(cfg)\n",
    "maskObj = ut.loadMasks(cfg, nibObjectsOnly=True)\n",
    "nch, nx, ny, nz = masks.shape\n",
    "\n",
    "mr = masks.reshape(nch, nx*ny*nz)\n",
    "curout = np.zeros([nc, nx*ny*nz])\n",
    "for ci in range(nc):\n",
    "    curout[ci,mr[0]==1] = recon_components[:,ci]\n",
    "\n",
    "curout =  np.moveaxis(curout.reshape([nc,nx,ny,nz]), 0, -1)\n",
    "\n",
    "\n",
    "\n",
    "\n",
    "gica_outfile = outdir + '%s_%s_groupICAreconComponents_zscored.nii'%(varname,md)\n",
    "gica_nimg = nib.Nifti1Image(curout, affine=maskObj[0].affine, header=maskObj[0].header )\n",
    "nib.save(gica_nimg, gica_outfile)\n",
    "\n",
    "\n"
   ]
  },
  {
   "cell_type": "code",
   "execution_count": null,
   "metadata": {},
   "outputs": [],
   "source": [
    "\n",
    "\n",
    "### Plot Group ICA maps \n",
    "print('Plotting gICA maps..')\n",
    "\n",
    "\n",
    "\n",
    "\n",
    "gica_file = outdir + '%s_%s_groupICAreconComponents_zscored.nii'%(varname,md)\n",
    "gica_img = image.load_img(nib.load(gica_file))\n",
    "\n",
    "nx, ny, nz, nvol = gica_img.shape\n",
    "rowcoldict = {10:(4,3), 30:(6,5), 100:(10,10), 5:(3,2)}\n",
    "nrows, ncols = rowcoldict[nvol]\n",
    "f, ax = plt.subplots(nrows=nrows, ncols=ncols, figsize=(nrows*4,ncols*4), facecolor='black')\n",
    "\n",
    "axcover = np.zeros([nrows,ncols], dtype=bool)\n",
    "\n",
    "for vol in range(nvol):\n",
    "    rw, col = vol // ncols, vol % ncols\n",
    "    # if vol == 9:\n",
    "    #     col += 1\n",
    "\n",
    "    plot_stat_map(image.index_img(gica_img, vol), threshold=1, black_bg=True, title='C%d'%(vol+1), figure=f, axes=ax[rw,col])\n",
    "    axcover[rw,col] = True\n",
    "    \n",
    "# ax[-1,0].axis('off')\n",
    "# ax[-1,-1].axis('off')\n",
    "for rw,col in zip(np.where(axcover==False)[0], np.where(axcover==False)[1]):\n",
    "    ax[rw,col].axis('off')\n",
    "    ax[rw,col].axis('off')\n",
    "\n",
    "f.suptitle('Components from gICA on saliency maps (pca_%d_ica_%d; %s_%s)'%(nc_pca, nc_ica, varname, md), color='white')\n",
    "# plt.savefig(os.path.splitext(gica_file)[0] + '_ortho.png')\n",
    "# plt.close(f)\n",
    "plt.show()\n",
    "plt.close(f)"
   ]
  },
  {
   "cell_type": "code",
   "execution_count": null,
   "metadata": {},
   "outputs": [],
   "source": [
    "plt.close()"
   ]
  },
  {
   "cell_type": "code",
   "execution_count": null,
   "metadata": {},
   "outputs": [],
   "source": [
    "plot_stat_map(image.index_img(gica_img, vol), threshold=1, black_bg=True, title='C%d'%(vol+1))"
   ]
  },
  {
   "cell_type": "code",
   "execution_count": null,
   "metadata": {},
   "outputs": [],
   "source": [
    "plt.show()"
   ]
  },
  {
   "cell_type": "code",
   "execution_count": null,
   "metadata": {},
   "outputs": [],
   "source": [
    "from summarize_gica import summarize_gica"
   ]
  },
  {
   "cell_type": "code",
   "execution_count": null,
   "metadata": {},
   "outputs": [],
   "source": [
    "summarize_gica(basedirs['age'], md, varname, 'age', nc_pca=100, nc_ica=10)"
   ]
  },
  {
   "cell_type": "code",
   "execution_count": null,
   "metadata": {},
   "outputs": [],
   "source": [
    "with open(basedirs['age']+ '/groupICA/sal12gmrabsol_te_groupPCAExplainedVarianceRatio.pkl','rb') as f:\n",
    "    evr = pickle.load(f)\n"
   ]
  },
  {
   "cell_type": "code",
   "execution_count": null,
   "metadata": {},
   "outputs": [],
   "source": [
    "plt.close(f)"
   ]
  },
  {
   "cell_type": "code",
   "execution_count": null,
   "metadata": {},
   "outputs": [],
   "source": [
    "\n",
    "f, ax = plt.subplots()\n",
    "plt.bar(list(range(1,101)), evr)\n",
    "plt.show()"
   ]
  },
  {
   "cell_type": "code",
   "execution_count": null,
   "metadata": {},
   "outputs": [],
   "source": [
    "evr[evr > 0.05]"
   ]
  },
  {
   "cell_type": "code",
   "execution_count": null,
   "metadata": {},
   "outputs": [],
   "source": [
    "evr"
   ]
  },
  {
   "cell_type": "code",
   "execution_count": null,
   "metadata": {},
   "outputs": [],
   "source": [
    "\n",
    "\n",
    "for tvar in targetvars:\n",
    "    basedir = basedirs[tvar]\n",
    "    # for salname in varnames:\n",
    "    for salname in ['sal12gmr','sal12gmrabsol']:\n",
    "        print(tvar + ',' + salname)\n",
    "        \n",
    "        summarize_gica(basedir, md, salname, tvar)\n",
    "        \n",
    "\n"
   ]
  },
  {
   "cell_type": "code",
   "execution_count": null,
   "metadata": {},
   "outputs": [],
   "source": [
    "[1,2] + [1,3]"
   ]
  },
  {
   "cell_type": "code",
   "execution_count": null,
   "metadata": {},
   "outputs": [],
   "source": [
    "plt.show()"
   ]
  },
  {
   "cell_type": "markdown",
   "metadata": {},
   "source": [
    "### Prediction using loadings"
   ]
  },
  {
   "cell_type": "code",
   "execution_count": null,
   "metadata": {},
   "outputs": [],
   "source": []
  },
  {
   "cell_type": "markdown",
   "metadata": {},
   "source": []
  },
  {
   "cell_type": "markdown",
   "metadata": {},
   "source": [
    "## Summarize Connected Subspaces (indiviudal blind ICA)"
   ]
  },
  {
   "cell_type": "markdown",
   "metadata": {},
   "source": [
    "### Load subspace data"
   ]
  },
  {
   "cell_type": "code",
   "execution_count": null,
   "metadata": {},
   "outputs": [],
   "source": [
    "nreps =10\n",
    "C_all = [] # voxel - PCA components\n",
    "PCAl_all = [] # PCA loadings\n",
    "A_all = [] # PCA - ICA mixing components \n",
    "S_all = [] # voxel - ICA composite components.\n",
    "\n",
    "for i in range(nreps):\n",
    "    basedir = basedir.replace('iter_110','iter_11%d'%i).replace('rep_0','rep_%d'%i)\n",
    "    fname = basedir + '/fsal_tr_standardPCAEigenVectors.pkl'\n",
    "    with open(fname, 'rb') as f:\n",
    "        C = pickle.load(f)\n",
    "    C_all.append(C)\n",
    "    lfname = basedir + '/fsal_tr_standardPCAloadings.pkl'\n",
    "    with open(lfname, 'rb') as f: \n",
    "        PCAl = pickle.load(f)\n",
    "    PCAl_all.append(PCAl)\n",
    "    # C = np.loadtxt(, delimiter=',')\n",
    "    ica_fname = basedir + '/fsal_tr_ICAcomponents.pkl'\n",
    "    with open(ica_fname, 'rb') as f:\n",
    "        A = pickle.load(f)\n",
    "    A_all.append(A) # Rows of A are PCA components and columns are ICA components. \n",
    "    S = C @ A \n",
    "    S_all.append(S)\n",
    "\n",
    "    dim, nc = C.shape\n",
    "C_all = np.hstack(C_all)\n",
    "A_all = np.hstack(A_all)\n",
    "S_all = np.hstack(S_all)\n",
    "PCAl_all = np.hstack(PCAl_all)\n",
    "\n",
    "# group_ica_comp, group_ica_loadings = ut.compute_subspaces(PCAl_all, procedure='fastICA', n_components=10,return_transform=True, normalize='zscore') "
   ]
  },
  {
   "cell_type": "code",
   "execution_count": null,
   "metadata": {},
   "outputs": [],
   "source": [
    "ICAcorr = np.corrcoef(S_all.T)\n",
    "PCAcorr =  np.corrcoef(C_all.T)\n"
   ]
  },
  {
   "cell_type": "code",
   "execution_count": null,
   "metadata": {},
   "outputs": [],
   "source": [
    "PCAcorr.shape"
   ]
  },
  {
   "cell_type": "code",
   "execution_count": null,
   "metadata": {},
   "outputs": [],
   "source": [
    "sns.heatmap(PCAcorr[:100,:100])"
   ]
  },
  {
   "cell_type": "code",
   "execution_count": null,
   "metadata": {},
   "outputs": [],
   "source": [
    "plt.show()"
   ]
  },
  {
   "cell_type": "code",
   "execution_count": null,
   "metadata": {},
   "outputs": [],
   "source": [
    "def select_matching_subspaces(Corr, corrThresh = 0.4):\n",
    "    Corr -= np.eye(Corr.shape[0])\n",
    "    assert np.all(Corr - Corr.T < 1e-8)\n",
    "    # maxi = np.abs(Corr).max(axis=0)[:,np.newaxis]\n",
    "    G = nx.from_numpy_matrix(np.abs(Corr) > corrThresh, create_using = nx.MultiGraph())\n",
    "    S = [G.subgraph(c).copy() for c in nx.connected_components(G)]\n",
    "    return [list(si.nodes) for si in S if len((si))>1] # Return connected components based on thresholded correlation matrix.\n",
    "\n"
   ]
  },
  {
   "cell_type": "code",
   "execution_count": null,
   "metadata": {},
   "outputs": [],
   "source": [
    "ms = select_matching_subspaces(ICAcorr, corrThresh=0.4) "
   ]
  },
  {
   "cell_type": "code",
   "execution_count": null,
   "metadata": {},
   "outputs": [],
   "source": [
    "ms"
   ]
  },
  {
   "cell_type": "markdown",
   "metadata": {},
   "source": [
    "### Save all subspaces across reps"
   ]
  },
  {
   "cell_type": "code",
   "execution_count": null,
   "metadata": {},
   "outputs": [],
   "source": [
    "\n",
    "cfg = ut.loadCfg(basedir + 'config.pkl')\n",
    "masks = ut.loadMasks(cfg)\n",
    "maskObj = ut.loadMasks(cfg, nibObjectsOnly=True)\n",
    "nch, nx, ny, nz = masks.shape\n",
    "\n",
    "mr = masks.reshape(nch, nx*ny*nz)\n",
    "curout = np.zeros([nc*nreps, nx*ny*nz])\n",
    "for ci in range(nc*nreps):\n",
    "    curout[ci,mr[0]==1] = S_all[:,ci]\n",
    "\n",
    "curout =  np.moveaxis(curout.reshape([nc*nreps,nx,ny,nz]), 0, -1)\n",
    "nib.save(nib.Nifti1Image(curout, affine=maskObj[0].affine, header=maskObj[0].header ), basedir+'fsal_tr_ICAcomponents_allreps.nii')"
   ]
  },
  {
   "cell_type": "code",
   "execution_count": null,
   "metadata": {},
   "outputs": [],
   "source": [
    "basedir"
   ]
  },
  {
   "cell_type": "code",
   "execution_count": null,
   "metadata": {},
   "outputs": [],
   "source": []
  },
  {
   "cell_type": "code",
   "execution_count": null,
   "metadata": {},
   "outputs": [],
   "source": [
    "ms"
   ]
  },
  {
   "cell_type": "code",
   "execution_count": null,
   "metadata": {},
   "outputs": [],
   "source": [
    "S_all.max()"
   ]
  },
  {
   "cell_type": "code",
   "execution_count": null,
   "metadata": {},
   "outputs": [],
   "source": [
    "PCAcorr =  np.corrcoef(C_all.T)\n",
    "PCAcorr -= np.eye(PCAcorr.shape[0])\n"
   ]
  },
  {
   "cell_type": "code",
   "execution_count": null,
   "metadata": {},
   "outputs": [],
   "source": [
    "np.all(PCAcorr - PCAcorr.T < 1e-8)"
   ]
  },
  {
   "cell_type": "code",
   "execution_count": null,
   "metadata": {},
   "outputs": [],
   "source": [
    "sns.heatmap(PCAcorr, vmin=-1, vmax=1, cmap='coolwarm')\n",
    "plt.show()"
   ]
  },
  {
   "cell_type": "code",
   "execution_count": null,
   "metadata": {},
   "outputs": [],
   "source": [
    "maxi = np.abs(PCAcorr).max(axis=0)[:,np.newaxis]\n",
    "sns.heatmap(maxi, vmin=-1, vmax=1, cmap='coolwarm')\n",
    "plt.show()"
   ]
  },
  {
   "cell_type": "code",
   "execution_count": null,
   "metadata": {},
   "outputs": [],
   "source": [
    "maxi.squeeze()"
   ]
  },
  {
   "cell_type": "code",
   "execution_count": null,
   "metadata": {},
   "outputs": [],
   "source": [
    "i = 0\n",
    "j = 2\n",
    "sns.heatmap(PCAcorr[nreps*i:nreps*(i+1),nreps*j:nreps*(j+1)], vmin=-1, vmax=1, cmap='coolwarm', annot=True, fmt='.2f')"
   ]
  },
  {
   "cell_type": "code",
   "execution_count": null,
   "metadata": {},
   "outputs": [],
   "source": [
    "plt.show()"
   ]
  },
  {
   "cell_type": "code",
   "execution_count": null,
   "metadata": {},
   "outputs": [],
   "source": [
    "corrThresh = 0.4\n",
    "np.where(np.abs(np.tril(PCAcorr, -1) > corrThresh))"
   ]
  },
  {
   "cell_type": "code",
   "execution_count": null,
   "metadata": {},
   "outputs": [],
   "source": []
  },
  {
   "cell_type": "code",
   "execution_count": null,
   "metadata": {},
   "outputs": [],
   "source": []
  },
  {
   "cell_type": "code",
   "execution_count": null,
   "metadata": {},
   "outputs": [],
   "source": [
    "mr.shape"
   ]
  },
  {
   "cell_type": "code",
   "execution_count": null,
   "metadata": {},
   "outputs": [],
   "source": [
    "import numpy as np \n",
    "import nibabel as nib \n",
    "import pandas as pd\n",
    "import matplotlib.pyplot as plt \n",
    "import seaborn as sns\n"
   ]
  },
  {
   "cell_type": "code",
   "execution_count": null,
   "metadata": {},
   "outputs": [],
   "source": [
    "import numpy as np \n",
    "import nibabel as nib \n",
    "import pandas as pd\n",
    "import matplotlib.pyplot as plt \n",
    "import seaborn as sns"
   ]
  },
  {
   "cell_type": "code",
   "execution_count": null,
   "metadata": {},
   "outputs": [],
   "source": [
    "a = np.random.random([4,4])"
   ]
  },
  {
   "cell_type": "code",
   "execution_count": null,
   "metadata": {},
   "outputs": [],
   "source": [
    "False"
   ]
  },
  {
   "cell_type": "code",
   "execution_count": null,
   "metadata": {},
   "outputs": [],
   "source": [
    "np.unravel_index(a.argmax(), a.shape)"
   ]
  },
  {
   "cell_type": "code",
   "execution_count": null,
   "metadata": {},
   "outputs": [],
   "source": [
    "ix = np.unravel_index(np.argsort(-a, axis=None), a.shape)"
   ]
  },
  {
   "cell_type": "code",
   "execution_count": null,
   "metadata": {},
   "outputs": [],
   "source": [
    "ix"
   ]
  },
  {
   "cell_type": "code",
   "execution_count": null,
   "metadata": {},
   "outputs": [],
   "source": [
    "ix[0][0], ix[1][0\n",
    "                ]"
   ]
  },
  {
   "attachments": {},
   "cell_type": "markdown",
   "metadata": {},
   "source": [
    "## Match Components HCP-UKB"
   ]
  },
  {
   "cell_type": "code",
   "execution_count": null,
   "metadata": {},
   "outputs": [],
   "source": [
    "import numpy as np \n",
    "import nibabel as nib \n",
    "import pandas as pd\n",
    "import matplotlib.pyplot as plt \n",
    "import seaborn as sns\n",
    "\n",
    "indir = '/data/neuromark2/Results/ICA_template_str/'\n",
    "cmp1 = nib.load(indir + 'UKB/High100_sm12/UKB_highorder_100_sm12_group_component_ica_.nii')\n",
    "mask1 = nib.load(indir + 'UKB/High100_sm12/UKB_highorder_100_sm12Mask.nii').get_fdata()\n",
    "cmp2 = nib.load(indir + 'HCP/High100_sm12/HCP_highorder_100_sm12_group_component_ica_.nii')\n",
    "mask2 = nib.load(indir + 'HCP/High100_sm12/HCP_highorder_100_sm12Mask.nii').get_fdata()\n",
    "outdir = '/data/users2/ibatta/data/phenotype/SMRI_components/ICA_template_str2/'\n",
    "outfile_prefix = 'UKB_HCP_High100_sm12'\n",
    "\n",
    "d1 = cmp1.get_fdata()\n",
    "d2 = cmp2.get_fdata()\n",
    "assert d1.shape == d2.shape\n",
    "\n",
    "xdim, ydim, zdim, nc = d1.shape\n"
   ]
  },
  {
   "cell_type": "code",
   "execution_count": null,
   "metadata": {},
   "outputs": [],
   "source": [
    "\n",
    "# use intersection mask\n",
    "d1_flat = d1[(mask1*mask2)!=0,:]\n",
    "d2_flat = d2[(mask1*mask2)!=0,:]\n",
    "\n",
    "\n",
    "\n",
    "# Compute correlation between each pair of components\n",
    "Cmat = np.corrcoef(d1_flat.T, d2_flat.T, rowvar=True)\n",
    "Ca = np.abs(Cmat[:nc, nc:])\n",
    "Sca = np.sign(Cmat[:nc, nc:])\n",
    "\n",
    "# Use Greedy Matching to find the best matching component pairs between datasets\n",
    "out = pd.DataFrame(columns=['UKB','HCP','r','sign']).astype({'HCP':'int32', 'UKB':'int32', 'r':'float64', 'sign':'int8'})\n",
    "sorted_indices = np.unravel_index(np.argsort(-Ca, axis=None), Ca.shape)\n",
    "\n",
    "for i in range(nc**2):\n",
    "# while True:\n",
    "#     if len(out.index) == nc:\n",
    "#         break \n",
    "    max_i, max_j = sorted_indices[0][i], sorted_indices[1][i]\n",
    "    if not((1+max_i in out['UKB'].values) or (1+max_j in out['HCP'].values)):\n",
    "        out = out.append({'UKB':1+max_i, 'HCP':1+max_j, 'r':Ca[max_i,max_j], 'sign':Sca[max_i,max_j] }, ignore_index=True)\n",
    "        \n",
    "    # tc = np.argsort(-Ca[i,:]) # top components with respect to absolute pearson correlation \n",
    "    # bi = 0 # index of highest correlated component in second dataset as per greedy match\n",
    "    # while tc[bi] in out['HCP'].values:\n",
    "    #     bi += 1\n",
    "    # out = out.append({'UKB':int(i), 'HCP':int(tc[bi]), 'r':Ca[i,tc[bi]], 'sign':Sca[i,tc[bi]] }, ignore_index=True)\n",
    "out.to_excel(outdir + outfile_prefix + '_matchTable.xlsx', index=False)\n",
    "\n",
    "# Plot and save matching correlations\n",
    "f, ax = plt.subplots()\n",
    "sns.heatmap(Sca * Ca, cmap='vlag', vmin=-1, vmax=1)\n",
    "plt.xlabel('HCP component id') # Columns\n",
    "plt.ylabel('UKB component id') # Rows\n",
    "plt.savefig(outdir + outfile_prefix + '_matchCorr.png')\n",
    "plt.close(f)\n",
    "np.savetxt(outdir + outfile_prefix + '_matchCorr.csv', Sca*Ca, delimiter=',')\n",
    "\n"
   ]
  },
  {
   "cell_type": "code",
   "execution_count": null,
   "metadata": {},
   "outputs": [],
   "source": [
    "len(sorted_indices[0])"
   ]
  },
  {
   "cell_type": "code",
   "execution_count": null,
   "metadata": {},
   "outputs": [],
   "source": [
    "stats = nib.load('../out/saliency_stats/mt_AN3DdrlrMx_fkey_lT1_scorename_age_iter_X_nc_2_rep_X_bs_32_lr_0.0001_espat_20/tstats_fsal_raw_meansal_meansal.nii.gz')"
   ]
  },
  {
   "cell_type": "code",
   "execution_count": null,
   "metadata": {},
   "outputs": [],
   "source": [
    "d = nib.load('/data/users2/ibatta/data/features/lowresSMRI/ADNI/random_subject.nii.gz')"
   ]
  },
  {
   "cell_type": "code",
   "execution_count": null,
   "metadata": {},
   "outputs": [],
   "source": [
    "plotting.plot_img(stats, cmap='coolwarm', colorbar=True, vmin=-1e-4, vmax=1e-4, threshold=1e-5, black_bg=True, bg_img=d)\n",
    "plt.show()"
   ]
  },
  {
   "cell_type": "code",
   "execution_count": null,
   "metadata": {},
   "outputs": [],
   "source": [
    "hist, bins = np.histogram(d,bins=1000)\n",
    "plt.plot(hist, bins)\n",
    "plt.show()\n"
   ]
  },
  {
   "cell_type": "code",
   "execution_count": null,
   "metadata": {},
   "outputs": [],
   "source": [
    "plt.hist(d[d>0.03].flatten(), bins=100)\n",
    "plt.show()"
   ]
  },
  {
   "cell_type": "code",
   "execution_count": null,
   "metadata": {},
   "outputs": [],
   "source": [
    "np.sum(d>0)"
   ]
  },
  {
   "cell_type": "code",
   "execution_count": null,
   "metadata": {},
   "outputs": [],
   "source": [
    "fp = '../out/results/latest/mt_AN3DdrlrMxG_fkey_lT1_scorename_labels_3way_iter_208_nc_3_rep_9_bs_32_lr_0.0001_espat_20/sal_zscore.pkl'"
   ]
  },
  {
   "cell_type": "code",
   "execution_count": null,
   "metadata": {},
   "outputs": [],
   "source": [
    "with open(fp,'rb') as f:\n",
    "    d = pickle.load(f)"
   ]
  },
  {
   "cell_type": "code",
   "execution_count": null,
   "metadata": {},
   "outputs": [],
   "source": [
    "d.shape"
   ]
  },
  {
   "attachments": {},
   "cell_type": "markdown",
   "metadata": {},
   "source": [
    "## Visualize Fusion Layer Features and Gradients."
   ]
  },
  {
   "cell_type": "code",
   "execution_count": null,
   "metadata": {},
   "outputs": [],
   "source": [
    "d = []\n",
    "dG = []\n",
    "eig = []\n",
    "eigG = []\n",
    "eigGS = []\n",
    "eigICA = []\n",
    "# basepath = '/data/users2/ibatta/projects/deepsubspace/out/results/optimized/mt_BrASLnet2_fkey_lT1_scorename_labels_3way_iter_100_nc_2_rep_0_bs_8_lr_0.0001619311091244073_espat_20_sf_4/'\n",
    "basepath = '/data/users2/ibatta/projects/deepsubspace/out/results/ADNIt1/mt_BrASLnet5_fkey_lT1_scorename_MMSE_iter_100_nc_1_rep_0_bs_32_lr_0.01_espat_20_sf_4/'\n",
    "\n",
    "for i in range(100,110):\n",
    "    d.append(np.loadtxt(basepath.replace('iter_100','iter_'+str(i)).replace('rep_0','rep_%d'%(i-100)) + '/ifeat_tr.csv',delimiter=','))\n",
    "    dG.append(np.loadtxt(basepath.replace('iter_100','iter_'+str(i)).replace('rep_0','rep_%d'%(i-100)) + 'isal_tr.csv',delimiter=','))\n",
    "    # eig.append(np.loadtxt(basepath.replace('iter_100','iter_'+str(i)).replace('rep_0','rep_%d'%(i-100)) + 'ifeat_tr_SparseEigenVectors.csv',delimiter=','))\n",
    "    # eigG.append(np.loadtxt(basepath.replace('iter_100','iter_'+str(i)).replace('rep_0','rep_%d'%(i-100)) + 'isal_tr_EigenVectors.csv',delimiter=','))\n",
    "    # eigGS.append(np.loadtxt(basepath.replace('iter_100','iter_'+str(i)).replace('rep_0','rep_%d'%(i-100)) + 'isal_tr_SparseEigenVectors.csv',delimiter=','))\n",
    "    # eigICA.append(np.loadtxt(basepath.replace('iter_100','iter_'+str(i)).replace('rep_0','rep_%d'%(i-100)) + 'isal_tr_fastICAEigenVectors.csv',delimiter=','))\n",
    "d = np.vstack(d)\n",
    "dG = np.vstack(dG)\n",
    "# eig = np.vstack(eig)\n",
    "# eigG = np.vstack(eigG)\n",
    "# eigGS = np.vstack(eigGS)\n",
    "# eigICA = np.vstack(eigICA)\n"
   ]
  },
  {
   "cell_type": "code",
   "execution_count": null,
   "metadata": {},
   "outputs": [],
   "source": [
    "d.shape, dG.shape"
   ]
  },
  {
   "cell_type": "code",
   "execution_count": null,
   "metadata": {},
   "outputs": [],
   "source": [
    "nreps = 10\n",
    "nrep0 = int(d.shape[0] / nreps)"
   ]
  },
  {
   "cell_type": "code",
   "execution_count": null,
   "metadata": {},
   "outputs": [],
   "source": []
  },
  {
   "cell_type": "code",
   "execution_count": null,
   "metadata": {},
   "outputs": [],
   "source": [
    "sns.boxplot(data = dG[:nrep0], fliersize=0.1)\n",
    "plt.show()"
   ]
  },
  {
   "cell_type": "code",
   "execution_count": null,
   "metadata": {},
   "outputs": [],
   "source": [
    "sns.boxplot(data = d[:nrep0], fliersize=0.1)\n",
    "plt.show()"
   ]
  },
  {
   "cell_type": "code",
   "execution_count": null,
   "metadata": {},
   "outputs": [],
   "source": [
    "dGC = np.cov(dG[:nrep0].T)"
   ]
  },
  {
   "cell_type": "code",
   "execution_count": null,
   "metadata": {},
   "outputs": [],
   "source": [
    "sns.heatmap(dG)\n",
    "plt.show()"
   ]
  },
  {
   "cell_type": "code",
   "execution_count": null,
   "metadata": {},
   "outputs": [],
   "source": [
    "ns = nrep0\n",
    "f, ax = plt.subplots(2,1)\n",
    "sns.boxplot(data=d[:ns], fliersize=0.1, ax=ax[0], hue=None)\n",
    "ax[0].plot([0,d.shape[1]], [0,0], 'k-' )\n",
    "\n",
    "# ax[0].set_aspect(0.75)\n",
    "sns.boxplot(data=dG[:ns], fliersize=0.1, ax=ax[1], hue=None)\n",
    "ax[1].plot([0,dG.shape[1]], [0,0], 'k-' )\n",
    "\n",
    "# ax[1].set_aspect(0.75)\n",
    "\n",
    "ax[0].set_xticklabels(np.arange(d.shape[1])+1, rotation=45, fontsize=5)\n",
    "ax[0].set_ylabel('Fusion Layer Feature')\n",
    "ax[1].set_xticklabels(np.arange(dG.shape[1])+1, rotation=45, fontsize=5)\n",
    "ax[1].set_ylabel('Fusion Layer Gradient')\n",
    "ax[1].set_xlabel('intermediate feature index (branch number)')\n",
    "\n",
    "\n",
    "\n",
    "\n",
    "plt.show()\n",
    "\n",
    "\n"
   ]
  },
  {
   "cell_type": "code",
   "execution_count": null,
   "metadata": {},
   "outputs": [],
   "source": [
    "f, ax = plt.subplots(2,1)\n",
    "sns.boxplot(data=d[296:(296*2)], fliersize=0.1, ax=ax[0], hue=None)\n",
    "sns.boxplot(data=dG[296:(296*2)], fliersize=0.1, ax=ax[1], hue=None)\n",
    "ax[0].set_aspect(0.75)\n",
    "ax[1].set_aspect(0.75)\n",
    "\n",
    "plt.show()\n",
    "plt.close(f)"
   ]
  },
  {
   "cell_type": "code",
   "execution_count": null,
   "metadata": {},
   "outputs": [],
   "source": [
    "f, ax = plt.subplots()\n",
    "sns.boxplot(data=d[296:592], fliersize=0.1, ax=ax)\n",
    "ax.set_aspect(0.75)\n",
    "plt.show()\n",
    "plt.close(f)"
   ]
  },
  {
   "cell_type": "code",
   "execution_count": null,
   "metadata": {},
   "outputs": [],
   "source": [
    "sns.heatmap(eig)\n",
    "plt.show()"
   ]
  },
  {
   "cell_type": "code",
   "execution_count": null,
   "metadata": {},
   "outputs": [],
   "source": [
    "sns.heatmap(eigICA)\n",
    "plt.show()"
   ]
  },
  {
   "attachments": {},
   "cell_type": "markdown",
   "metadata": {},
   "source": [
    "## Deep ASL"
   ]
  },
  {
   "cell_type": "code",
   "execution_count": null,
   "metadata": {},
   "outputs": [],
   "source": [
    "# import pickle \n",
    "\n",
    "# isalfile = '/data/users2/ibatta/projects/deepsubspace/out/results/optimized/mt_BrASLnet2_fkey_lT1_scorename_labels_3way_iter_109_nc_2_rep_9_bs_8_lr_0.0001619311091244073_espat_20_sf_4/isal_zscore.pkl'\n",
    "\n",
    "# with open(isalfile, 'rb') as f:\n",
    "#     isal = pickle.load(f)\n"
   ]
  },
  {
   "cell_type": "code",
   "execution_count": null,
   "metadata": {},
   "outputs": [],
   "source": [
    "import sys\n",
    "sys.path.insert(1,'../../subspace/code/')\n",
    "import glob \n"
   ]
  },
  {
   "cell_type": "code",
   "execution_count": null,
   "metadata": {},
   "outputs": [],
   "source": []
  },
  {
   "cell_type": "code",
   "execution_count": null,
   "metadata": {},
   "outputs": [],
   "source": [
    "from cluster_summaries import create_rep_summaries\n",
    "\n",
    "for scr in ['MMSE']:\n",
    "    for fs in ['','Sparse','Augmented','AugmentedSparse']:\n",
    "    # for fs in ['Augmented']:\n",
    "        print(scr + ',' + fs)\n",
    "        \n",
    "        wfiles = glob.glob('../out/subspace_matrices/ADNI/PSVRASL/all_lT1_%s_BrASLnet5_r*_%sEigenVectors.csv'%(scr,fs))\n",
    "        gfiles = glob.glob('../out/predictions/ADNI/all_lT1_%s_PSVR_BrASLnet5_r*_%sgradients.csv'%(scr,fs.replace('Sparse','')))\n",
    "\n",
    "        # if scr == 'MMSE':\n",
    "        #     wfiles = glob.glob('../out/results/threshmask/mt_BrASLnet5_fkey_lT1_scorename_MMSE_iter_*_nc_1_rep_*_bs_32_lr_0.01_espat_20_sf_4/isal_tr_%sEigenVectors.csv'%fs)\n",
    "        #     gfiles = glob.glob('../out/results/threshmask/mt_BrASLnet5_fkey_lT1_scorename_MMSE_iter_*_nc_1_rep_*_bs_32_lr_0.01_espat_20_sf_4/isal_tr.csv')\n",
    "        # elif scr == 'age':\n",
    "        #     wfiles = glob.glob('../out/results/threshmask/mt_BrASLnet5_fkey_lT1_scorename_age_iter_*_nc_1_rep_*_bs_16_lr_0.01_espat_20_sf_16/isal_tr_%sEigenVectors.csv'%fs)\n",
    "        #     gfiles = glob.glob('../out/results/threshmask/mt_BrASLnet5_fkey_lT1_scorename_age_iter_*_nc_1_rep_*_bs_16_lr_0.01_espat_20_sf_16/isal_tr.csv')\n",
    "        # # wfiles = glob.glob('../out/results/optimized/mt_BrASLnet2_fkey_lT1_scorename_labels_3way_iter_*_nc_2_rep_*_bs_8_lr_0.0001619311091244073_espat_20_sf_4/isal_tr_fastICAEigenVectors.csv')\n",
    "        # # gfiles = glob.glob('../out/results/optimized/mt_BrASLnet2_fkey_lT1_scorename_labels_3way_iter_*_nc_2_rep_*_bs_8_lr_0.0001619311091244073_espat_20_sf_4/isal_tr.csv')\n",
    "        \n",
    "        woutfile = '../out/subspace_matrices/ADNI/PSVRASL/lT1_%s_BrASLnet5_%sEigenVectors_top100.mat'%(scr,fs)\n",
    "        goutfile = '../out/predictions/ADNI/lT1_%s_PSVR_BrASLnet5_%sgradients_top.mat'%(scr,fs.replace('Sparse',''))\n",
    "\n",
    "        create_rep_summaries('ADNI', 'PSVRASL', 'lT1', scr, fs, 'BrASLnet5', filelist=wfiles, gfilelist=gfiles, foutfilename=woutfile, goutfilename=goutfile, nreps=10)"
   ]
  },
  {
   "cell_type": "code",
   "execution_count": null,
   "metadata": {},
   "outputs": [],
   "source": [
    "from cluster_summaries import cluster_summaries\n",
    "\n",
    "# for scr in ['age','MMSE']:\n",
    "for scr in ['MMSE']:\n",
    "    # for fs in ['','Augmented']:\n",
    "    for fs in ['','Augmented','AugmentedSparse','Sparse']:\n",
    "        print(scr + ',' + fs)\n",
    "        cluster_summaries('ADNI','PSVRASL','all','lT1',scr,'BrASLnet5',fs, te=20, mode='EigenVectorsAligned')"
   ]
  },
  {
   "cell_type": "code",
   "execution_count": null,
   "metadata": {},
   "outputs": [],
   "source": []
  },
  {
   "cell_type": "code",
   "execution_count": null,
   "metadata": {},
   "outputs": [],
   "source": [
    "from learn_subspaces import compute_subspaces"
   ]
  },
  {
   "cell_type": "code",
   "execution_count": null,
   "metadata": {},
   "outputs": [],
   "source": [
    "dw = loadmat('../out/subspace_matrices/ADNI/DeepASL/lT1_age_BrASLnet2Opt2_fastICAEigenVectors_top100.mat')"
   ]
  },
  {
   "cell_type": "code",
   "execution_count": null,
   "metadata": {},
   "outputs": [],
   "source": [
    "f, ax = plt.subplots(3,3)\n",
    "for i in range(9):\n",
    "    print('%d,%d,%d'%(i,np.min(dw['W'][0][0][0][i]), np.max(dw['W'][0][0][0][i])))\n",
    "    # print(np.unique(dw['W'][0][0][0][i]))\n",
    "    print(np.trace(dw['W'][0][0][0][i]))\n",
    "    sns.heatmap(dw['W'][0][0][0][i], ax=ax[i//3,i%3])\n",
    "\n",
    "plt.show()\n"
   ]
  },
  {
   "cell_type": "code",
   "execution_count": null,
   "metadata": {},
   "outputs": [],
   "source": [
    "sns.heatmap(dw['W'][0][0][0][0], cmap='PiYG')\n",
    "plt.show()"
   ]
  },
  {
   "cell_type": "code",
   "execution_count": null,
   "metadata": {},
   "outputs": [],
   "source": []
  },
  {
   "cell_type": "code",
   "execution_count": null,
   "metadata": {},
   "outputs": [],
   "source": [
    "from scipy.io import loadmat, savemat"
   ]
  },
  {
   "cell_type": "code",
   "execution_count": null,
   "metadata": {},
   "outputs": [],
   "source": [
    "L = loadmat('../out/subspace_matrices/ADNI/DeepASL/lT1_age_BrASLnet2_Lambda_top100.mat')"
   ]
  },
  {
   "cell_type": "code",
   "execution_count": null,
   "metadata": {},
   "outputs": [],
   "source": [
    "G = loadmat('../out/predictions/ADNI/lT1_age_Deep_BrASLnet2_gradients_top.mat')"
   ]
  },
  {
   "cell_type": "code",
   "execution_count": null,
   "metadata": {},
   "outputs": [],
   "source": [
    "G['Gcloud']"
   ]
  },
  {
   "cell_type": "code",
   "execution_count": null,
   "metadata": {},
   "outputs": [],
   "source": [
    "L['L'][0,0][0].sum()"
   ]
  },
  {
   "cell_type": "code",
   "execution_count": null,
   "metadata": {},
   "outputs": [],
   "source": [
    "W = loadmat('../out/subspace_matrices/ADNI/DeepASL/lT1_nc2_BrASLnet2_EigenVectors_top100.mat')"
   ]
  },
  {
   "cell_type": "code",
   "execution_count": null,
   "metadata": {},
   "outputs": [],
   "source": [
    "W['W'][0][0][0].shape"
   ]
  },
  {
   "cell_type": "code",
   "execution_count": null,
   "metadata": {},
   "outputs": [],
   "source": []
  },
  {
   "cell_type": "code",
   "execution_count": null,
   "metadata": {},
   "outputs": [],
   "source": []
  },
  {
   "cell_type": "code",
   "execution_count": null,
   "metadata": {},
   "outputs": [],
   "source": [
    "L, W, C = compute_subspaces(isal.T)"
   ]
  },
  {
   "cell_type": "code",
   "execution_count": null,
   "metadata": {},
   "outputs": [],
   "source": []
  },
  {
   "cell_type": "code",
   "execution_count": null,
   "metadata": {},
   "outputs": [],
   "source": []
  },
  {
   "cell_type": "code",
   "execution_count": null,
   "metadata": {},
   "outputs": [],
   "source": [
    "import utils as ut \n",
    "\n",
    "cg = ut.loadCfg('../out/results/raytune/mt_AN3DdrlrMx_fkey_fMVP_scorename_age_iter_110_nc_1_rep_0_bs_32_lr_0.0014297724879798386_espat_40_sf_4/best_config.pkl')\n",
    "\n"
   ]
  },
  {
   "cell_type": "code",
   "execution_count": null,
   "metadata": {},
   "outputs": [],
   "source": [
    "cg"
   ]
  },
  {
   "cell_type": "code",
   "execution_count": null,
   "metadata": {},
   "outputs": [],
   "source": [
    "cg2 = ut.updateIterML(cg)"
   ]
  },
  {
   "cell_type": "code",
   "execution_count": null,
   "metadata": {},
   "outputs": [],
   "source": [
    "cg2"
   ]
  },
  {
   "attachments": {},
   "cell_type": "markdown",
   "metadata": {},
   "source": [
    "## MVP Feature Extraction "
   ]
  },
  {
   "cell_type": "code",
   "execution_count": null,
   "metadata": {},
   "outputs": [],
   "source": [
    "import pandas as pd \n",
    "import numpy as np \n",
    "import os \n",
    "import glob\n",
    "import nibabel as nib"
   ]
  },
  {
   "cell_type": "code",
   "execution_count": null,
   "metadata": {},
   "outputs": [],
   "source": [
    "ica_dir = '/data/qneuromark/Data/ADNI/Updated/fMRI/Results/GIGICA/'\n",
    "scores_file = '../in/analysis_SCORE_MMR180d.csv'\n"
   ]
  },
  {
   "cell_type": "code",
   "execution_count": null,
   "metadata": {},
   "outputs": [],
   "source": [
    "dinfo = pd.read_csv(scores_file)"
   ]
  },
  {
   "cell_type": "code",
   "execution_count": null,
   "metadata": {},
   "outputs": [],
   "source": [
    "pthe = np.array([os.path.exists(ica_dir+pth) for pth in dinfo['lowres_fmriPath']])\n"
   ]
  },
  {
   "cell_type": "code",
   "execution_count": null,
   "metadata": {},
   "outputs": [],
   "source": [
    "labels = np.loadtxt('../in/labels_3way_MMR180d.txt', dtype=int)"
   ]
  },
  {
   "cell_type": "code",
   "execution_count": null,
   "metadata": {},
   "outputs": [],
   "source": [
    "labels[~pthe] = 1000 "
   ]
  },
  {
   "cell_type": "code",
   "execution_count": null,
   "metadata": {},
   "outputs": [],
   "source": [
    "np.savetxt('../in/labels_3way_MMR180d_mvp.txt', labels, fmt='%d')"
   ]
  },
  {
   "cell_type": "code",
   "execution_count": null,
   "metadata": {},
   "outputs": [],
   "source": [
    "pth = dinfo['lowres_fmriPath'][pthe][0]"
   ]
  },
  {
   "cell_type": "code",
   "execution_count": null,
   "metadata": {},
   "outputs": [],
   "source": [
    "fl = ica_dir + pth + '/swarest1/adni_aa__sub01_component_ica_s1_.nii'"
   ]
  },
  {
   "cell_type": "code",
   "execution_count": null,
   "metadata": {},
   "outputs": [],
   "source": [
    "d = nib.load(fl).get_fdata()"
   ]
  },
  {
   "cell_type": "code",
   "execution_count": null,
   "metadata": {},
   "outputs": [],
   "source": [
    "d.max(axis=-1).shape"
   ]
  },
  {
   "cell_type": "code",
   "execution_count": null,
   "metadata": {},
   "outputs": [],
   "source": []
  },
  {
   "cell_type": "code",
   "execution_count": null,
   "metadata": {},
   "outputs": [],
   "source": [
    "cd = d[:,:,:,cmpi].max(axis=-1).shape"
   ]
  },
  {
   "cell_type": "code",
   "execution_count": null,
   "metadata": {},
   "outputs": [],
   "source": [
    "d[:,:,:,cmpi].argmax(axis=-1).shape"
   ]
  },
  {
   "cell_type": "code",
   "execution_count": null,
   "metadata": {},
   "outputs": [],
   "source": []
  },
  {
   "cell_type": "code",
   "execution_count": null,
   "metadata": {},
   "outputs": [],
   "source": []
  },
  {
   "cell_type": "code",
   "execution_count": null,
   "metadata": {},
   "outputs": [],
   "source": [
    "outdir = '/data/users2/ibatta/data/features/fmrimeasures/ADNI/nii/'\n",
    "cmpi = np.loadtxt('/data/users2/ibatta/data/features/SFNC/good_component_indices.txt',dtype=int)\n",
    "\n",
    "for pth in dinfo['lowres_fmriPath'][pthe]:\n",
    "    # print(pth)\n",
    "    # dirs = glob.glob(ica_dir+pth+'/*')\n",
    "    # fl = np.sort(dirs)[0] + '/adni_aa__sub01_component_ica_s1_.nii'\n",
    "    fl = ica_dir + pth + '/swarest1/adni_aa__sub01_component_ica_s1_.nii'\n",
    "    print(fl)\n",
    "    components = nib.load(fl)\n",
    "    cdata = components.get_fdata()\n",
    "    \n",
    "    os.makedirs(outdir+pth, exist_ok=True)\n",
    "    \n",
    "    mvpabs = np.abs(cdata[:,:,:,cmpi]).max(axis=-1)\n",
    "    \n",
    "    outfile_mvp = outdir + pth + '/swarest1_mvp.nii'\n",
    "    mvp = cdata[:,:,:,cmpi].max(axis=-1)\n",
    "    print('absmax vs max:')\n",
    "    print((mvpabs - mvp).sum())\n",
    "    \n",
    "    continue \n",
    "\n",
    "    nib.save(nib.Nifti1Image(mvp, affine=components.affine, header=components.header), outfile_mvp)\n",
    "    \n",
    "    outfile_mvpi = outdir + pth + '/swarest1_mvp_indices.nii'\n",
    "    mvpi = cdata[:,:,:,cmpi].argmax(axis=-1)\n",
    "    nib.save(nib.Nifti1Image(mvpi, affine=components.affine, header=components.header), outfile_mvpi)\n",
    "    \n",
    "    # if len(dirs) > 1:\n",
    "    #     print(len(dirs))\n",
    "    #     if not 'swarest1' in np.sort(dirs)[0]:\n",
    "    #         print(np.sort(dirs)[0])\n",
    "    #     print('-----------')\n",
    "    # folders = [di.split('/')[-1] for di in dirs]\n",
    "    \n",
    "    # if len(dirs) > 1:\n",
    "    #     print(dirs)    "
   ]
  },
  {
   "cell_type": "code",
   "execution_count": null,
   "metadata": {},
   "outputs": [],
   "source": []
  },
  {
   "cell_type": "code",
   "execution_count": null,
   "metadata": {},
   "outputs": [],
   "source": []
  },
  {
   "attachments": {},
   "cell_type": "markdown",
   "metadata": {},
   "source": [
    "## FDR Correction"
   ]
  },
  {
   "attachments": {},
   "cell_type": "markdown",
   "metadata": {},
   "source": []
  },
  {
   "cell_type": "code",
   "execution_count": null,
   "metadata": {},
   "outputs": [],
   "source": [
    "import numpy as np\n",
    "from scipy import stats\n",
    "import matplotlib.pyplot as plt\n",
    "\n",
    "import mne\n",
    "from mne import io\n",
    "from mne.datasets import sample\n",
    "from mne.stats import bonferroni_correction, fdr_correction\n",
    "\n",
    "print(__doc__)"
   ]
  },
  {
   "cell_type": "code",
   "execution_count": null,
   "metadata": {},
   "outputs": [],
   "source": [
    "# Import libraries\n",
    "import matplotlib.pyplot as plt\n",
    "import numpy as np\n",
    "\n",
    "\n",
    "# Creating dataset\n",
    "np.random.seed(10)\n",
    "data = np.random.normal(100, 20, 200)\n",
    "\n",
    "fig = plt.figure(figsize =(10, 7))\n",
    "\n",
    "# Creating plot\n",
    "plt.boxplot(data, showmeans=True)\n",
    "plt.scatter([1],[data.mean()], label='mean')\n",
    "# plt.scatter([1],[np.median(data)], label='median')\n",
    "plt.legend()\n",
    "\n",
    "# show plot\n",
    "plt.show()\n"
   ]
  },
  {
   "cell_type": "code",
   "execution_count": null,
   "metadata": {},
   "outputs": [],
   "source": [
    "a = np.zeros([2,3])"
   ]
  },
  {
   "cell_type": "code",
   "execution_count": null,
   "metadata": {},
   "outputs": [],
   "source": [
    "a.mean(axis=0)"
   ]
  },
  {
   "cell_type": "code",
   "execution_count": null,
   "metadata": {},
   "outputs": [],
   "source": [
    "np.expand_dims(np.array([[1,2]])[0],1).shape"
   ]
  },
  {
   "cell_type": "code",
   "execution_count": null,
   "metadata": {},
   "outputs": [],
   "source": [
    "np.expand_dims(np.array([[1,2]])[0],0)"
   ]
  },
  {
   "attachments": {},
   "cell_type": "markdown",
   "metadata": {},
   "source": [
    "## ROI-Voxel Intersection"
   ]
  },
  {
   "cell_type": "code",
   "execution_count": null,
   "metadata": {},
   "outputs": [],
   "source": [
    "import numpy as np \n",
    "import nibabel as nib \n",
    "import pandas as pd \n",
    "import glob\n",
    "\n",
    "def compute_roi_stats(inputfile, atlasfile, thresh, fracThresh=0.9, absMode=True, datavolnames=None, roinames=None):\n",
    "    \"\"\"_summary_\n",
    "\n",
    "    Args:\n",
    "        inputfile (str): path to nii file with input data. nii files with multiple volumes can also be handled. \n",
    "        atlasfile (str): path to nii file with masked ROIs, containing ROI mask in each volume.\n",
    "    \"\"\"\n",
    "    \n",
    "    data = nib.load(inputfile).get_fdata()\n",
    "    atlas = nib.load(atlasfile).get_fdata()\n",
    "    \n",
    "    assert np.all(data.shape[:3] == atlas.shape[:3])\n",
    "    nx, ny, nz, nch = data.shape\n",
    "    _, _, _, nr = atlas.shape\n",
    "    \n",
    "    if (datavolnames == None):\n",
    "        datavolnames = [str(i) for i in range(nch)]\n",
    "    \n",
    "    if (np.any(roinames) == None):\n",
    "        roinames = [str(i) for i in range(nr)]\n",
    "    roinames = np.array(roinames)\n",
    "    \n",
    "    out_data = {}\n",
    "    names = np.array(roinames)\n",
    "    indices = np.array(list(range(nr)))\n",
    "    out_vars = ['names','indices',\n",
    "                'frac_active','indicators_active_f','sorted_indices_f','sorted_fracs','sorted_indicators_f','sorted_names_f',\n",
    "                'mean_vox','indicators_active_m','sorted_indices_m','sorted_means','sorted_indicators_m','sorted_names_m']\n",
    "        \n",
    "    for ch in range(nch):\n",
    "        \n",
    "        masked_data = atlas * data[:,:,:,ch:(ch+1)]\n",
    "        total_vox = atlas.sum(axis=(0,1,2))\n",
    "        \n",
    "        if absMode:\n",
    "            significant_voxels = np.abs(masked_data) > thresh\n",
    "        else:\n",
    "            significant_voxels = (masked_data > thresh)\n",
    "            \n",
    "        signs_vox = np.sign(masked_data) * significant_voxels\n",
    "\n",
    "        nnz_vox = (significant_voxels).sum(axis=(0,1,2))    \n",
    "        sign_active = np.sign(signs_vox.sum(axis=(0,1,2)))\n",
    "        sign_active =  np.sign(sign_active + 0.5*(nnz_vox > 0)) # assign positive sign if equal number of positive and negative voxels\n",
    "        \n",
    "        # Calculate mean based on whether most voxels are positive or negative.\n",
    "        mean_vox_pos = ((signs_vox==1)*masked_data*significant_voxels).sum(axis=(0,1,2)) / total_vox\n",
    "        mean_vox_neg = ((signs_vox==-1)*masked_data*significant_voxels).sum(axis=(0,1,2)) / total_vox    \n",
    "        mean_vox = mean_vox_pos*(sign_active==1) + np.abs(mean_vox_neg*(sign_active == -1)) #abs value\n",
    "        mean_vox *= sign_active\n",
    "        indicators_active_m = np.abs(mean_vox) > thresh\n",
    "        sorted_indices_m = np.argsort(np.abs(mean_vox))[::-1] # Descending order sorted indices\n",
    "        sorted_means = mean_vox[sorted_indices_m]\n",
    "        sorted_indicators_m = indicators_active_m[sorted_indices_m]\n",
    "        sorted_names_m = roinames[sorted_indices_m]\n",
    "        \n",
    "        frac_active = (nnz_vox / total_vox)\n",
    "        indicators_active_f = frac_active > fracThresh\n",
    "        sorted_indices_f = np.argsort(frac_active)[::-1] # Descending order sorted indices\n",
    "        frac_active *= sign_active\n",
    "        sorted_fracs = frac_active[sorted_indices_f]\n",
    "        sorted_indicators_f = indicators_active_f[sorted_indices_f]\n",
    "        sorted_names_f = roinames[sorted_indices_f]\n",
    "        \n",
    "        out_data[ch] = {}\n",
    "        for vi in out_vars:\n",
    "            out_data[ch][vi] = eval(vi)\n",
    "        \n",
    "    return out_data\n",
    "        \n",
    "\n",
    "\n",
    "def write_roi_stats(inputfile, atlasfile):\n",
    "        \n",
    "    atlas_info = pd.read_csv('../../../data/atlases/HO-CortSubcortCB-ROIs.csv')\n",
    "    roinames = atlas_info['shortname'].values\n",
    "\n",
    "    \n",
    "    cs = inputfile.split('/')[-2].split('_')\n",
    "    fkeys = cs[cs.index('fkey')+1].split(',')\n",
    "    statmode = inputfile.split('/')[-1].split('_')[3]\n",
    "    assert statmode in ['single','groupwise','univsmul','intrabim']     \n",
    "    \n",
    "    threshold = 1.3\n",
    "\n",
    "    out_data = compute_roi_stats(inputfile, atlasfile, threshold, roinames=roinames)    \n",
    "\n",
    "\n",
    "    outfile = inputfile.replace('.nii','.csv').replace('.gz','')\n",
    "    outf = open(outfile,'w+')\n",
    "\n",
    "    for fi in range(len(fkeys)):\n",
    "        fkey = fkeys[fi]\n",
    "        if statmode == 'intrabim' and fi > 0:\n",
    "            break\n",
    "        elif statmode == 'intrabim' and fi == 0:\n",
    "            fkey = '-'.join(fkeys)\n",
    "        for vi in out_data[fi].keys():\n",
    "            vector_vals = [str(i) for i in out_data[fi][vi]]\n",
    "            if vi in ['mean_vox','sorted_means','frac_active','sorted_fracs']:\n",
    "                vector_vals = ['%.2f'%i for i in out_data[fi][vi]]\n",
    "            line = ','.join( ['-'.join(fkeys),statmode,fkey,vi] + vector_vals )\n",
    "            outf.write( line + '\\n' )\n",
    "    outf.close()"
   ]
  },
  {
   "cell_type": "code",
   "execution_count": null,
   "metadata": {},
   "outputs": [],
   "source": [
    "atlasfile = '../../../data/atlases/ROImaskvols_T1lowres/rlowres_HO-CortSubcortCB-atlas-ROImasks_MaskedBinarized.nii.gz'\n",
    "for fi in glob.glob('../out/saliency_stats/*MVP*/tstats_fsal_zscore_*_minusSignTlogP_fdrCorrected.nii.gz'):\n",
    "    print(fi)\n",
    "    write_roi_stats(fi,atlasfile)"
   ]
  },
  {
   "attachments": {},
   "cell_type": "markdown",
   "metadata": {},
   "source": [
    "### Reformat "
   ]
  },
  {
   "cell_type": "code",
   "execution_count": null,
   "metadata": {},
   "outputs": [],
   "source": [
    "\n",
    "\n",
    "# inpath = '../out/salient_regions/groupwise_mean_v1.3.xlsx'\n",
    "\n",
    "for inpath in glob.glob('../out/salient_regions/*v1.3.xlsx'):\n",
    "    print(inpath)\n",
    "\n",
    "    d = pd.read_excel(inpath, header=None)\n",
    "\n",
    "    outdf = pd.DataFrame({'index':[i for i in range(len(d[1].values))]})\n",
    "    for i in d.columns:\n",
    "        if i % 2 == 1:\n",
    "            continue\n",
    "        coldata = ['%s (%s)'%(d[i+1].values[j],d[i].values[j])  for j in range(len(d[i].values))]\n",
    "        \n",
    "        outdf[i] = coldata\n",
    "    outdf.to_excel(inpath.replace('.xlsx','_reformatted.xlsx'), header=False, index=False,)\n",
    "        "
   ]
  },
  {
   "attachments": {},
   "cell_type": "markdown",
   "metadata": {},
   "source": [
    "## Data Characteristics"
   ]
  },
  {
   "cell_type": "code",
   "execution_count": null,
   "metadata": {},
   "outputs": [],
   "source": [
    "data = pd.read_csv('../in/analysis_SCORE_MMR180d.csv')\n",
    "data = data[data.labels_3way != 3]"
   ]
  },
  {
   "cell_type": "code",
   "execution_count": null,
   "metadata": {},
   "outputs": [],
   "source": []
  },
  {
   "cell_type": "code",
   "execution_count": null,
   "metadata": {},
   "outputs": [],
   "source": [
    "data['age'].mean(), data['age'].std()"
   ]
  },
  {
   "cell_type": "code",
   "execution_count": null,
   "metadata": {},
   "outputs": [],
   "source": [
    "(data['Sex'] == 'Male').sum(), (data['Sex'] == 'Female').sum()"
   ]
  },
  {
   "cell_type": "code",
   "execution_count": null,
   "metadata": {},
   "outputs": [],
   "source": []
  },
  {
   "cell_type": "code",
   "execution_count": null,
   "metadata": {},
   "outputs": [],
   "source": [
    "(fracs > 0.9)"
   ]
  },
  {
   "attachments": {},
   "cell_type": "markdown",
   "metadata": {},
   "source": [
    "## Smallest Enclosing Cuboid"
   ]
  },
  {
   "cell_type": "code",
   "execution_count": null,
   "metadata": {},
   "outputs": [],
   "source": [
    "import numpy as np \n",
    "import nibabel as nib\n",
    "\n",
    "\n",
    "\n",
    "def get_cuboid_corners(indices):\n",
    "    \"\"\"_summary_\n",
    "\n",
    "    Args:\n",
    "        indices (np array): shape 4,ni where ni is the number of non-zero voxels. \n",
    "                            indices[-3] should represent the coordinates of non-zero voxels, \n",
    "                            indices[-1] should represent the corresponding volume number (roi number)\n",
    "    \"\"\"\n",
    "    nr = np.sort(np.unique(indices[-1]))\n",
    "\n",
    "    imin, imax = [],[]\n",
    "    for roi in nr:\n",
    "        curi = (indices[-1] == roi)\n",
    "        imin.append(indices[:3,curi].min(axis=1))\n",
    "        imax.append(indices[:3,curi].max(axis=1))\n",
    "\n",
    "    imin, imax = np.vstack(imin), np.vstack(imax)    \n",
    "    largest_dims = (imax-imin).max(axis=0) # Dimensions of required cuboid \n",
    "    \n",
    "    return imin, imax\n",
    "\n",
    "\n",
    "def computed_adjusted_cuboid_corners(indices):\n",
    "    imin, imax = get_cuboid_corners(indices)\n",
    "    dims = imax - imin\n",
    "    largest_dims = dims.max(axis=0) # Dimensions of required cuboid \n",
    "    newmin = imax - largest_dims\n",
    "    newmax = imax\n",
    "    newmax[newmin < 0] += np.abs(newmin[newmin < 0])\n",
    "    newmin[newmin<0] += np.abs(newmin[newmin < 0])\n",
    "\n",
    "    assert np.all(newmax - newmin == largest_dims)\n",
    "    \n",
    "    return newmin, newmax\n",
    "\n",
    "\n",
    "def smallest_enclosing_cuboid(inputfilepath, indices_outfile, cuboids_outfile, return_output=False, adjusted=True):\n",
    "    print('Loading Data..')\n",
    "    atlas_im = nib.load(inputfilepath)\n",
    "    atlas = np.array(atlas_im.get_fdata(), dtype=bool)\n",
    "    nx, ny, nz, nr = atlas.shape\n",
    "    print(atlas.shape)\n",
    "\n",
    "    indices = np.array(np.where(atlas==1), dtype=int)\n",
    "    \n",
    "    print('Computing Cuboid Corners..')\n",
    "    if adjusted:\n",
    "        imin, imax = computed_adjusted_cuboid_corners(indices)\n",
    "    else: \n",
    "        imin, imax = get_cuboid_corners(indices)\n",
    "    \n",
    "    assert( (imin.shape[0] == nr) and (imax.shape[0]==nr) )\n",
    "    assert( (imin.shape[1] == 3) and (imax.shape[1]==3) )\n",
    "    \n",
    "    print('Saving Results..')\n",
    "    out_data = np.zeros(atlas.shape, dtype=int)\n",
    "    for roi in range(nr):\n",
    "        out_data[imin[roi,0]:imax[roi,0]+1,imin[roi,1]:imax[roi,1]+1,imin[roi,2]:imax[roi,2]+1, roi] = 1\n",
    "    \n",
    "    header = 'xmin,ymin,zmin,xmax,ymax,zmax'\n",
    "    np.savetxt(indices_outfile,np.hstack((imin,imax)),fmt='%d',header=header, delimiter=',')\n",
    "    \n",
    "    nib.save(nib.Nifti1Image(out_data,header=atlas_im.header,affine=atlas_im.affine), cuboids_outfile)\n",
    "    \n",
    "    if return_output:\n",
    "        return imin, imax, out_data\n",
    "    \n",
    "    "
   ]
  },
  {
   "cell_type": "code",
   "execution_count": null,
   "metadata": {},
   "outputs": [],
   "source": [
    "atlasfile = '/data/users2/ibatta/data/atlases/ROImaskvols_T1lowres/rlowres_HO-CortSubcortCB-atlas-ROImasks_MaskedBinarized.nii.gz'\n",
    "indices_outfile = '/data/users2/ibatta/data/atlases/ROImaskvols_T1lowres/rlowres_HO-CortSubcortCB-atlas-ROImasks_MaskedBinarized_adjustedCuboids_indices.csv'\n",
    "cuboids_outfile = '/data/users2/ibatta/data/atlases/ROImaskvols_T1lowres/rlowres_HO-CortSubcortCB-atlas-ROImasks_MaskedBinarized_adjustedCuboids.nii.gz'"
   ]
  },
  {
   "cell_type": "code",
   "execution_count": null,
   "metadata": {},
   "outputs": [],
   "source": [
    "imin, imax, out_data = smallest_enclosing_cuboid(atlasfile,indices_outfile, cuboids_outfile, return_output=True, adjusted=True)"
   ]
  },
  {
   "cell_type": "code",
   "execution_count": null,
   "metadata": {},
   "outputs": [],
   "source": [
    "a = np.array(       [[37, 15, 30],\n",
    "       [31, 18, 14],\n",
    "       [20, 23, 21],\n",
    "       [37, 15, 17],\n",
    "       [40,  8, 12],\n",
    "       [41,  7, 12],\n",
    "       [44, 17, 26],\n",
    "       [42,  9, 18],\n",
    "       [44,  6, 10],\n",
    "       [47, 10, 10],\n",
    "       [45,  6, 11],\n",
    "       [48, 13, 13],\n",
    "       [46, 10, 11],\n",
    "       [41,  6,  8],\n",
    "       [45, 13, 12],\n",
    "       [45, 10, 10],\n",
    "       [46, 16, 23],\n",
    "       [30,  9, 12],\n",
    "       [45,  9, 12],\n",
    "       [46,  8, 17],\n",
    "       [43,  7, 15],\n",
    "       [39, 13, 21],\n",
    "       [40, 13, 14],\n",
    "       [18, 12,  9],\n",
    "       [10, 10, 11],\n",
    "       [10, 10, 12],\n",
    "       [10, 10, 12],\n",
    "       [12, 18, 25],\n",
    "       [11, 22, 21],\n",
    "       [15, 16, 19],\n",
    "       [19, 17, 23],\n",
    "       [17,  9, 10],\n",
    "       [36, 13, 12],\n",
    "       [25, 12, 10],\n",
    "       [23,  8, 11],\n",
    "       [23, 20, 11],\n",
    "       [29,  7,  8],\n",
    "       [32, 13, 14],\n",
    "       [33, 10, 10],\n",
    "       [32, 12,  8],\n",
    "       [34,  9,  9],\n",
    "       [44, 13, 11],\n",
    "       [44,  8,  9],\n",
    "       [42, 11, 11],\n",
    "       [40,  9,  8],\n",
    "       [46, 13, 10],\n",
    "       [18, 12,  7],\n",
    "       [25,  7, 20],\n",
    "       [11, 31, 11],\n",
    "       [10, 15,  8],\n",
    "       [ 6, 14, 12],\n",
    "       [ 8, 14, 10],\n",
    "       [ 7,  9,  6],\n",
    "       [16, 15, 24],\n",
    "       [11, 14, 13],\n",
    "       [ 8,  8,  8],\n",
    "       [ 4,  6,  5],\n",
    "       [12, 30, 12],\n",
    "       [ 9, 15,  9],\n",
    "       [ 6, 13, 12],\n",
    "       [ 8, 15, 10],\n",
    "       [ 7,  9,  5],\n",
    "       [10, 14, 13],\n",
    "       [ 8,  8,  8],\n",
    "       [ 5,  6,  5],\n",
    "       [ 9, 12, 14],\n",
    "       [10, 11, 15],\n",
    "       [15, 19, 16],\n",
    "       [17, 18, 16],\n",
    "       [ 5,  8,  9],\n",
    "       [18, 19, 15],\n",
    "       [ 5,  4,  6],\n",
    "       [18, 18, 14],\n",
    "       [16, 17, 14],\n",
    "       [ 7, 12,  9],\n",
    "       [18, 16, 14]])"
   ]
  },
  {
   "cell_type": "code",
   "execution_count": null,
   "metadata": {},
   "outputs": [],
   "source": [
    "( (a.prod(axis=1) > 4096) & ((a>=16).sum(axis=1)<3) )"
   ]
  },
  {
   "cell_type": "code",
   "execution_count": null,
   "metadata": {},
   "outputs": [],
   "source": [
    "np.sort(a.sum(axis=1))"
   ]
  },
  {
   "cell_type": "code",
   "execution_count": null,
   "metadata": {},
   "outputs": [],
   "source": [
    "( (a.prod(axis=1) > 2048) & ((a>=8).sum(axis=1)==3) )\n"
   ]
  },
  {
   "cell_type": "code",
   "execution_count": null,
   "metadata": {},
   "outputs": [],
   "source": [
    "import numpy as np "
   ]
  },
  {
   "cell_type": "code",
   "execution_count": null,
   "metadata": {},
   "outputs": [],
   "source": [
    "fes = np.loadtxt('../in/feature_extractor_out_shapes.txt', delimiter=',')"
   ]
  },
  {
   "cell_type": "code",
   "execution_count": null,
   "metadata": {},
   "outputs": [],
   "source": [
    "fes // 16"
   ]
  },
  {
   "cell_type": "code",
   "execution_count": null,
   "metadata": {},
   "outputs": [],
   "source": [
    "c = [(0, 768), (1, 576), (2, 288), (3, 768), (4, 288), (5, 480), (6, 432), (7, 768), (8, 192), (9, 64), (10, 512), (11, 576), (12, 128), (13, 576), (14, 384), (15, 64), (16, 576), (17, 384), (18, 512), (19, 576), (20, 960), (21, 576), (22, 432), (23, 512), (24, 32), (25, 32), (26, 32), (27, 384), (28, 288), (29, 768), (30, 576), (31, 192), (32, 384), (33, 96), (34, 288), (35, 192), (36, 960), (37, 432), (38, 48), (39, 288), (40, 768), (41, 288), (42, 576), (43, 192), (44, 576), (45, 192), (46, 640), (47, 480), (48, 192), (49, 192), (50, 384), (51, 144), (52, 1280), (53, 576), (54, 288), (55, 432), (56, 384), (57, 192), (58, 1024), (59, 384), (60, 192), (61, 960), (62, 144), (63, 432), (64, 576), (65, 384), (66, 128), (67, 768), (68, 576), (69, 576), (70, 1024), (71, 384), (72, 768), (73, 432), (74, 640), (75, 576)]"
   ]
  },
  {
   "cell_type": "code",
   "execution_count": null,
   "metadata": {},
   "outputs": [],
   "source": []
  },
  {
   "cell_type": "code",
   "execution_count": null,
   "metadata": {},
   "outputs": [],
   "source": [
    "b = np.array([2240, 2304, 1152, 896, 145920, 124800, 4096, 1728, 86016, 640, 99072, 2560, 640, 59904, 1280, 640, 1728, 384, 640, 253440, 170560, 1344, 2048, 71680, 36864, 40960, 40960, 960, 1024, 768, 2304, 53760, 896, 320, 72576, 768, 51840, 1536, 448, 115200, 448, 1152, 112896, 576, 102144, 1280, 51200, 132480, 384, 39936, 30720, 36864, 8960, 1024, 76032, 13824, 1536, 384, 40768, 28160, 39936, 6720, 67584, 13824, 2304, 53760, 59904, 768, 1152, 8064, 1152, 1536, 1152, 768, 22400, 768])"
   ]
  },
  {
   "cell_type": "code",
   "execution_count": null,
   "metadata": {},
   "outputs": [],
   "source": [
    "((a>8).sum(axis=1)==3).sum()\n"
   ]
  },
  {
   "cell_type": "code",
   "execution_count": null,
   "metadata": {},
   "outputs": [],
   "source": [
    "(a.prod(axis=1) > 8092).sum()"
   ]
  },
  {
   "cell_type": "code",
   "execution_count": null,
   "metadata": {},
   "outputs": [],
   "source": [
    "(a.prod(axis=1) > 4096).sum()"
   ]
  },
  {
   "cell_type": "code",
   "execution_count": null,
   "metadata": {},
   "outputs": [],
   "source": [
    "roi=50\n",
    "out_data[imin[roi,0]:imax[roi,0],imin[roi,1]:imax[roi,1],imin[roi,2]:imax[roi,2], roi].shape"
   ]
  },
  {
   "cell_type": "code",
   "execution_count": null,
   "metadata": {},
   "outputs": [],
   "source": [
    "a = np.loadtxt(indices_outfile,delimiter=',')"
   ]
  },
  {
   "cell_type": "code",
   "execution_count": null,
   "metadata": {},
   "outputs": [],
   "source": [
    "a[0]"
   ]
  },
  {
   "cell_type": "code",
   "execution_count": null,
   "metadata": {},
   "outputs": [],
   "source": [
    "\n"
   ]
  },
  {
   "cell_type": "code",
   "execution_count": null,
   "metadata": {},
   "outputs": [],
   "source": []
  },
  {
   "cell_type": "code",
   "execution_count": null,
   "metadata": {},
   "outputs": [],
   "source": []
  },
  {
   "cell_type": "code",
   "execution_count": null,
   "metadata": {},
   "outputs": [],
   "source": [
    "newdims"
   ]
  },
  {
   "cell_type": "code",
   "execution_count": null,
   "metadata": {},
   "outputs": [],
   "source": [
    "np.all()"
   ]
  },
  {
   "cell_type": "code",
   "execution_count": null,
   "metadata": {},
   "outputs": [],
   "source": [
    "def make_cuboid_inplace(newmin, imax):\n",
    "    x1,y1=newmin.shape\n",
    "    x2,y2 =imax.shape\n",
    "    assert np.all([y1==3, y2==3])\n",
    "    assert(x1==x2)\n",
    "    \n",
    "    \n",
    "        "
   ]
  },
  {
   "cell_type": "code",
   "execution_count": null,
   "metadata": {},
   "outputs": [],
   "source": [
    "newmin"
   ]
  },
  {
   "cell_type": "code",
   "execution_count": null,
   "metadata": {},
   "outputs": [],
   "source": [
    "(imax - imin).max(axis=0)"
   ]
  },
  {
   "cell_type": "code",
   "execution_count": null,
   "metadata": {},
   "outputs": [],
   "source": [
    "def compute_enclosing_cuboid()"
   ]
  },
  {
   "attachments": {},
   "cell_type": "markdown",
   "metadata": {},
   "source": [
    "## Prep Atlases"
   ]
  },
  {
   "attachments": {},
   "cell_type": "markdown",
   "metadata": {},
   "source": [
    "### Combine Harvard-Oxford atlases for cortical and sub-cortical regions"
   ]
  },
  {
   "cell_type": "code",
   "execution_count": null,
   "metadata": {},
   "outputs": [],
   "source": [
    "basepath = '/sysapps/ubuntu-applications/fsl/6.0.5.2/fsl/data/atlases/'\n",
    "\n",
    "subcort = nib.load(basepath + 'HarvardOxford/HarvardOxford-sub-maxprob-thr25-1mm.nii.gz')\n",
    "subcort_data = np.array(subcort.get_fdata(), dtype=int)\n",
    "subcort_names = pd.read_csv('../../../data/atlases/HO-Subcort-ROIs.csv')\n",
    "cort = nib.load(basepath + 'HarvardOxford/HarvardOxford-cort-maxprob-thr25-1mm.nii.gz')\n",
    "cort_names = pd.read_csv('../../../data/atlases/HO-Cort-ROIs.csv')\n",
    "cb = nib.load(basepath + 'Cerebellum/Cerebellum-MNIflirt-maxprob-thr25-1mm.nii.gz')\n",
    "cb_data = np.array(cb.get_fdata(), dtype=int)\n",
    "cb_names = pd.read_csv('../../../data/atlases/HO-CB-ROIs.csv')\n",
    "# cb_data[cb_data>0] = 1 # Binarize, as CB is needed as one region\n",
    "out_names = pd.DataFrame([],columns=cort_names.columns)\n",
    "out_names = out_names.append(cort_names, ignore_index=True)\n",
    "out_data = np.array(cort.get_fdata(), dtype=int)\n",
    "# c1 = np.array([[i,(out_data==i).sum()] for i in np.unique(out_data) if i!=0 ])\n",
    "# print(-np.sort(-c1[:,1]))\n",
    "# c2 = np.array([[i,(subcort_data==i).sum()] for i in np.unique(subcort_data) if i!=0])\n",
    "# print(-np.sort(-c2[:,1]))\n",
    "# c3 = np.array([[i,(cb_data==i).sum()] for i in np.unique(cb_data) if i!=0])\n",
    "# print(-np.sort(-c3[:,1]))\n",
    "# Replace label numbers for subcortical data to append to cortical\n",
    "offset = 48 # There are 0-47 labels in cortical regions\n",
    "remove_indices = np.array([0,1,11,12])\n",
    "for li in range(21):\n",
    "    if li in remove_indices:\n",
    "        print('Skipping %d'%li)\n",
    "        continue\n",
    "    out_data[subcort_data==(li+1)] = li+1+offset\n",
    "    \n",
    "# Remove cortical and white matter voxels from subcortical map\n",
    "remove_values = remove_indices + 1 + offset\n",
    "# remove_voxels = np.zeros(subcort_data.shape, dtype=bool)\n",
    "adder = 0\n",
    "new_map = {}\n",
    "for v in range(1+offset,70):\n",
    "    if v in remove_values:\n",
    "        adder += 1\n",
    "        out_data[out_data==v] = 0\n",
    "        print('%d,%s will be removed'%(v, subcort_names['name'][v-offset-1]))\n",
    "    else:\n",
    "        print('Replacing %d,%s with %d,%s'%\n",
    "              (v-adder,subcort_names['name'][v-offset-1-adder], v,subcort_names['name'][v-offset-1]))\n",
    "        out_data[out_data==v] = v - adder\n",
    "        names_row = {ci:subcort_names.iloc[v-offset-1][ci] for ci in subcort_names.columns}\n",
    "        names_row['index'] = v - adder - 1\n",
    "        out_names = out_names.append(names_row, ignore_index=True)\n",
    "        new_map[v-1] = v-1 - adder  # -1 because of indices\n",
    "    # remove_voxels = np.logical_or(remove_voxels, out_data == rv)\n",
    "# out_data[np.where(remove_voxels==True)] = 0\n",
    "# Add Cerbellar Regions with new indices for some of the combined regions.\n",
    "cboffset = len(out_names)\n",
    "new_cb_map = {}\n",
    "for i in range(27):\n",
    "    li = cb_names.iloc[i]['newindex']\n",
    "    out_data[cb_data == i+1] = li+1 + cboffset\n",
    "    \n",
    "    if not li+cboffset in out_names['index']:\n",
    "        ignore_cols = ['newindex','newname','newshortname']\n",
    "        names_row = {ci:cb_names.iloc[i][ci] for ci in cb_names.columns if ci not in ignore_cols}\n",
    "        names_row['index'] = cb_names.iloc[i]['newindex'] + cboffset\n",
    "        names_row['shortname'] = cb_names.iloc[i]['newshortname']\n",
    "        names_row['name'] = cb_names.iloc[i]['newname']    \n",
    "        out_names = out_names.append(names_row, ignore_index=True)\n",
    "    new_cb_map[i+offset] = i\n",
    "outpath = '../../../data/atlases/'\n",
    "nib.save(nib.Nifti1Image(np.array(out_data, dtype=int), affine=cort.affine, header=cort.header), outpath+'HO-CortSubcortCB-atlas.nii.gz')\n",
    "out_names.to_csv(outpath+'HO-CortSubcortCB-ROIs.csv', index=False)\n",
    "with open(outpath + 'new_subcort_roi_map.json','w+') as f:\n",
    "    json.dump(new_map, f)\n",
    "with open(outpath + 'new_CB_roi_map.json','w+') as f:\n",
    "    json.dump(new_cb_map, f)"
   ]
  },
  {
   "attachments": {},
   "cell_type": "markdown",
   "metadata": {},
   "source": [
    "### Generate Mask for each ROI"
   ]
  },
  {
   "cell_type": "code",
   "execution_count": null,
   "metadata": {},
   "outputs": [],
   "source": [
    "nx,ny,nz = out_data.shape\n",
    "nm = np.unique(out_data).max()\n",
    "out_masks = []\n",
    "\n",
    "for i in range(nm):\n",
    "    curmask = np.zeros(out_data.shape, dtype=int)\n",
    "    curmask[out_data==(i+1)] = i+1\n",
    "    out_masks.append(curmask)\n",
    "out_masks = np.array(out_masks,dtype=int)\n",
    "out_masks = np.moveaxis(out_masks, 0, -1)"
   ]
  },
  {
   "cell_type": "code",
   "execution_count": null,
   "metadata": {},
   "outputs": [],
   "source": [
    "nib.save(nib.Nifti1Image(np.array(out_masks, dtype=int), affine=cort.affine, header=cort.header), outpath+'HO-CortSubcortCB-atlas-ROImasks.nii.gz')"
   ]
  },
  {
   "cell_type": "code",
   "execution_count": null,
   "metadata": {},
   "outputs": [],
   "source": []
  },
  {
   "attachments": {},
   "cell_type": "markdown",
   "metadata": {},
   "source": [
    "## Saliency"
   ]
  },
  {
   "attachments": {},
   "cell_type": "markdown",
   "metadata": {},
   "source": []
  },
  {
   "cell_type": "code",
   "execution_count": null,
   "metadata": {},
   "outputs": [],
   "source": [
    "import utils as ut \n",
    "import summarize as smr\n",
    "from models import AN3Ddr_lowresMax\n",
    "import torch\n",
    "from torch.autograd import Variable\n",
    "from scipy.ndimage import gaussian_filter"
   ]
  },
  {
   "cell_type": "code",
   "execution_count": null,
   "metadata": {},
   "outputs": [],
   "source": [
    "a = nib.load('/data/users2/ibatta/data/features/lowresSMRI/ADNI/random_subject.nii.gz')"
   ]
  },
  {
   "cell_type": "code",
   "execution_count": null,
   "metadata": {},
   "outputs": [],
   "source": [
    "b = np.zeros(a.get_fdata().shape)"
   ]
  },
  {
   "cell_type": "code",
   "execution_count": null,
   "metadata": {},
   "outputs": [],
   "source": [
    "nib.save(nib.Nifti1Image(b, affine=a.affine, header=a.header), 'check_nibsave.nii')"
   ]
  },
  {
   "cell_type": "code",
   "execution_count": null,
   "metadata": {},
   "outputs": [],
   "source": [
    "saltype = 'fsal_raw'\n",
    "basedir = '../out/results/latest/'\n",
    "config_string = 'mt_AN3DdrlrMx_fkey_lT1_scorename_xyz_iter_*_nc_2_rep_*_bs_32_lr_0.0001_espat_20' \n",
    "configlist_file = '../in/config_keys/allcombos_baseline_clf_nc2'\n",
    "files_key = basedir + config_string + '/' + saltype + '.pkl'"
   ]
  },
  {
   "cell_type": "code",
   "execution_count": null,
   "metadata": {},
   "outputs": [],
   "source": [
    "import summarize as smr "
   ]
  },
  {
   "cell_type": "code",
   "execution_count": null,
   "metadata": {},
   "outputs": [],
   "source": []
  },
  {
   "cell_type": "code",
   "execution_count": null,
   "metadata": {},
   "outputs": [],
   "source": [
    "smr.summarize_all_saliencies(configlist_file, 'labels_3way',10,-1)"
   ]
  },
  {
   "cell_type": "code",
   "execution_count": null,
   "metadata": {},
   "outputs": [],
   "source": [
    "smr.summarize_all_saliencies(configlist_file, 'labels_3way',10,0)"
   ]
  },
  {
   "cell_type": "code",
   "execution_count": null,
   "metadata": {},
   "outputs": [],
   "source": [
    "outfile = '../out/saliency_stats/' + config_string.replace('*','X') + '/tstats.nii.gz'"
   ]
  },
  {
   "cell_type": "code",
   "execution_count": null,
   "metadata": {},
   "outputs": [],
   "source": [
    "smr.summarize_saliency(config_string, 'labels_3way',outfile, saltype=saltype)"
   ]
  },
  {
   "cell_type": "code",
   "execution_count": null,
   "metadata": {},
   "outputs": [],
   "source": []
  },
  {
   "cell_type": "code",
   "execution_count": null,
   "metadata": {},
   "outputs": [],
   "source": []
  },
  {
   "cell_type": "code",
   "execution_count": null,
   "metadata": {},
   "outputs": [],
   "source": [
    "cfgpath = glob.glob(basedir + config_string)[0] + '/config.pkl' \n",
    "cfg = ut.loadCfg(cfgpath)\n",
    "masks = ut.loadMasks(cfg)"
   ]
  },
  {
   "cell_type": "code",
   "execution_count": null,
   "metadata": {},
   "outputs": [],
   "source": [
    "def load_masked_saliency_maps(config_string, masks, saltype, normalize=True):\n",
    "    \"\"\"\n",
    "    Loads saliency maps from all the files in the mentioned config string into a single list of length nch\n",
    "\n",
    "    Args:\n",
    "        config_string (str): keywords to be used as configuration string to search from models outputs directory\n",
    "        \n",
    "        \n",
    "    \"\"\"\n",
    "\n",
    "    basedir = '../out/results/latest/'\n",
    "    \n",
    "    nch, nx, ny, nz = masks.shape\n",
    "    mr = masks.reshape([nch,nx*ny*nz])\n",
    "    \n",
    "    out_data = [[] for ch in range(nch)]\n",
    "    for salfile in glob.glob(basedir+config_string+'/'+saltype+'.pkl'):\n",
    "        with open (salfile, 'rb') as f:\n",
    "            sal_data = pickle.load(f)\n",
    "        assert np.all(sal_data.shape[1:] == masks.shape)\n",
    "        nsub, _, _, _, _ = sal_data.shape\n",
    "        sal_data = sal_data.reshape([nsub,nch,nx*ny*nz])\n",
    "        for ch in range(nch):\n",
    "            out_data[ch].append(sal_data[:,ch,mr[ch]==1])\n",
    "    for ch in range(nch):\n",
    "        out_data[ch] = np.vstack(out_data[ch])\n",
    "        if normalize:\n",
    "            out_data[ch] = ut.normalize_image(out_data[ch], method='zscore', axis=1)\n",
    "        \n",
    "    return out_data        \n",
    "\n"
   ]
  },
  {
   "cell_type": "code",
   "execution_count": null,
   "metadata": {},
   "outputs": [],
   "source": [
    "md = load_masked_saliency_maps(config_string, masks, saltype, normalize=False)"
   ]
  },
  {
   "cell_type": "code",
   "execution_count": null,
   "metadata": {},
   "outputs": [],
   "source": [
    "mdc = [md[i][0] for i in range(len(md))]"
   ]
  },
  {
   "cell_type": "code",
   "execution_count": null,
   "metadata": {},
   "outputs": [],
   "source": [
    "mdc[0].shape , mdc[1].shape"
   ]
  },
  {
   "cell_type": "code",
   "execution_count": null,
   "metadata": {},
   "outputs": [],
   "source": [
    "mdc = [ut.normalize_image(mdc[i]) for i in range(len(mdc))]"
   ]
  },
  {
   "cell_type": "code",
   "execution_count": null,
   "metadata": {},
   "outputs": [],
   "source": [
    "from scipy.stats import zscore"
   ]
  },
  {
   "cell_type": "code",
   "execution_count": null,
   "metadata": {},
   "outputs": [],
   "source": [
    "b = np.array([[ 0.3148,  0.0478,  0.6243,  0.4608],\n",
    "              [ 0.7149,  0.0775,  0.6072,  0.9656],\n",
    "              [ 0.6341,  0.1403,  0.9759,  0.4064],\n",
    "              [ 0.5918,  0.6948,  0.904 ,  0.3721],\n",
    "              [ 0.0921,  0.2481,  0.1188,  0.1366]])"
   ]
  },
  {
   "cell_type": "code",
   "execution_count": null,
   "metadata": {},
   "outputs": [],
   "source": [
    "b.shape"
   ]
  },
  {
   "cell_type": "code",
   "execution_count": null,
   "metadata": {},
   "outputs": [],
   "source": [
    "b.mean(axis=1)"
   ]
  },
  {
   "cell_type": "code",
   "execution_count": null,
   "metadata": {},
   "outputs": [],
   "source": [
    "zscore(b, axis=1).mean(axis=1)"
   ]
  },
  {
   "cell_type": "code",
   "execution_count": null,
   "metadata": {},
   "outputs": [],
   "source": [
    "c = np.array([b,b])"
   ]
  },
  {
   "cell_type": "code",
   "execution_count": null,
   "metadata": {},
   "outputs": [],
   "source": [
    "c.shape"
   ]
  },
  {
   "cell_type": "code",
   "execution_count": null,
   "metadata": {},
   "outputs": [],
   "source": [
    "zscore(c, axis=2).mean(axis=2)"
   ]
  },
  {
   "cell_type": "code",
   "execution_count": null,
   "metadata": {},
   "outputs": [],
   "source": []
  },
  {
   "cell_type": "code",
   "execution_count": null,
   "metadata": {},
   "outputs": [],
   "source": []
  },
  {
   "cell_type": "code",
   "execution_count": null,
   "metadata": {},
   "outputs": [],
   "source": [
    "\n",
    "def save_masked_maps(data, masks, outfilepath):\n",
    "    # mask is a 4-D np array with shape (nch, nx, ny, nz)\n",
    "    # data is a list (and not np.array!) of vectors, each with different length depending on non-zero voxels of the corresponding mask\n",
    "    # outfilepath should be a path with .nii or .nii.gz as extension.\n",
    "    \n",
    "    nch, nx, ny, nz = masks.shape\n",
    "    assert len(data) == nch\n",
    "    mr = masks.reshape(nch, nx*ny*nz)\n",
    "    \n",
    "    cur_out = np.zeros([nch, nx*ny*nz])\n",
    "    for ch in range(nch): \n",
    "        cur_out[ch,mr[ch]==1] = data[ch]\n",
    "    \n",
    "    cur_out =  np.moveaxis(cur_out.reshape([nch,nx,ny,nz]), 0, -1)\n",
    "    nib.save(nib.Nifti1Image(cur_out, np.eye(4)), outfilepath)\n"
   ]
  },
  {
   "cell_type": "code",
   "execution_count": null,
   "metadata": {},
   "outputs": [],
   "source": [
    "save_masked_maps(mdc, masks, '../out/check_save.nii')"
   ]
  },
  {
   "cell_type": "code",
   "execution_count": null,
   "metadata": {},
   "outputs": [],
   "source": []
  },
  {
   "cell_type": "code",
   "execution_count": null,
   "metadata": {},
   "outputs": [],
   "source": [
    "print(files_key)"
   ]
  },
  {
   "cell_type": "code",
   "execution_count": null,
   "metadata": {},
   "outputs": [],
   "source": [
    "maskfile = \"/data/users2/ibatta/data/masks/ADNI/ADNI_T1_lowres.nii.gz\"\n",
    "mask = nib.load(maskfile).get_fdata()"
   ]
  },
  {
   "cell_type": "code",
   "execution_count": null,
   "metadata": {},
   "outputs": [],
   "source": [
    "mr = mask.reshape(np.prod(mask.shape))"
   ]
  },
  {
   "cell_type": "code",
   "execution_count": null,
   "metadata": {},
   "outputs": [],
   "source": [
    "salfile = glob.glob(basedir+config_string+'/'+saltype+'.pkl')[0]\n",
    "with open(salfile, 'rb') as f:\n",
    "    sal_data = pickle.load(f)\n",
    "sal_data = ut.normalize_5D(np.abs(sal_data), method='zscore')\n",
    "n, nch, nx, ny, nz = sal_data.shape\n",
    "print(sal_data.shape)\n"
   ]
  },
  {
   "cell_type": "code",
   "execution_count": null,
   "metadata": {},
   "outputs": [],
   "source": [
    "zscore(sal_data[0,0], axis=None).mean()"
   ]
  },
  {
   "cell_type": "code",
   "execution_count": null,
   "metadata": {},
   "outputs": [],
   "source": [
    "sal_data[0,1].mean()"
   ]
  },
  {
   "cell_type": "code",
   "execution_count": null,
   "metadata": {},
   "outputs": [],
   "source": [
    "sd = sal_data.reshape([n, nch, nx*ny*nz])[:,0]"
   ]
  },
  {
   "cell_type": "code",
   "execution_count": null,
   "metadata": {},
   "outputs": [],
   "source": [
    "sd.shape"
   ]
  },
  {
   "cell_type": "code",
   "execution_count": null,
   "metadata": {},
   "outputs": [],
   "source": [
    "sd[:,mr==1].shape"
   ]
  },
  {
   "cell_type": "code",
   "execution_count": null,
   "metadata": {},
   "outputs": [],
   "source": [
    "t, p = ttest_1samp((sd[:,mr==1]), 0, axis=0)"
   ]
  },
  {
   "cell_type": "code",
   "execution_count": null,
   "metadata": {},
   "outputs": [],
   "source": [
    "sal_data.shape"
   ]
  },
  {
   "cell_type": "code",
   "execution_count": null,
   "metadata": {},
   "outputs": [],
   "source": [
    "sal_data[:,0].shape"
   ]
  },
  {
   "cell_type": "code",
   "execution_count": null,
   "metadata": {},
   "outputs": [],
   "source": [
    "t.shape, p.shape"
   ]
  },
  {
   "cell_type": "code",
   "execution_count": null,
   "metadata": {},
   "outputs": [],
   "source": [
    "nch*nx*ny*nz"
   ]
  },
  {
   "cell_type": "code",
   "execution_count": null,
   "metadata": {},
   "outputs": [],
   "source": [
    "p.min(), p.max()"
   ]
  },
  {
   "cell_type": "code",
   "execution_count": null,
   "metadata": {},
   "outputs": [],
   "source": [
    "# out  = multipletests(p.reshape([nch*nx*ny*nz]), method='fdr_bh')\n",
    "out  = multipletests(p, method='fdr_bh')"
   ]
  },
  {
   "cell_type": "code",
   "execution_count": null,
   "metadata": {},
   "outputs": [],
   "source": [
    "cd = plt.hist(pc,bins=100, density=True, cumulative=False, histtype='stepfilled')"
   ]
  },
  {
   "cell_type": "code",
   "execution_count": null,
   "metadata": {},
   "outputs": [],
   "source": [
    "# (rej, pc) = fdrcorrection(p.reshape([nch*nx*ny*nz]))\n",
    "(rej, pc) = fdrcorrection(p)\n"
   ]
  },
  {
   "cell_type": "code",
   "execution_count": null,
   "metadata": {},
   "outputs": [],
   "source": [
    "pc.shape"
   ]
  },
  {
   "cell_type": "code",
   "execution_count": null,
   "metadata": {},
   "outputs": [],
   "source": [
    "a = np.zeros([nx*ny*nz])"
   ]
  },
  {
   "cell_type": "code",
   "execution_count": null,
   "metadata": {},
   "outputs": [],
   "source": [
    "a[mr==1] = pc"
   ]
  },
  {
   "cell_type": "code",
   "execution_count": null,
   "metadata": {},
   "outputs": [],
   "source": [
    "a = a.reshape([1,nx,ny,nz])"
   ]
  },
  {
   "cell_type": "code",
   "execution_count": null,
   "metadata": {},
   "outputs": [],
   "source": [
    "\n",
    "nib.save(nib.Nifti1Image(a, np.eye(4)), \n",
    "             'check.nii')"
   ]
  },
  {
   "cell_type": "code",
   "execution_count": null,
   "metadata": {},
   "outputs": [],
   "source": [
    "pc.min(), pc.max()"
   ]
  },
  {
   "cell_type": "code",
   "execution_count": null,
   "metadata": {},
   "outputs": [],
   "source": [
    "np.max(pc)"
   ]
  },
  {
   "cell_type": "code",
   "execution_count": null,
   "metadata": {},
   "outputs": [],
   "source": [
    "sal_data.mean()"
   ]
  },
  {
   "cell_type": "code",
   "execution_count": null,
   "metadata": {},
   "outputs": [],
   "source": [
    "np.max(sal_data), np.min(sal_data)"
   ]
  },
  {
   "cell_type": "code",
   "execution_count": null,
   "metadata": {},
   "outputs": [],
   "source": [
    "(rej, pc) = fdr_correction(p.reshape([nch*nx*ny*nz]))\n"
   ]
  },
  {
   "cell_type": "code",
   "execution_count": null,
   "metadata": {},
   "outputs": [],
   "source": [
    "\n",
    "rej = rej.reshape([nch,nx,ny,nz])\n",
    "pc = pc.reshape([nch,nx,ny,nz])"
   ]
  },
  {
   "cell_type": "code",
   "execution_count": null,
   "metadata": {},
   "outputs": [],
   "source": [
    "pc[rej==True][-10:], p[rej==True][-10:]"
   ]
  },
  {
   "cell_type": "code",
   "execution_count": null,
   "metadata": {},
   "outputs": [],
   "source": [
    "(np.isnan(p)).sum()\n"
   ]
  },
  {
   "cell_type": "code",
   "execution_count": null,
   "metadata": {},
   "outputs": [],
   "source": [
    "(rej==False).sum()"
   ]
  },
  {
   "cell_type": "code",
   "execution_count": null,
   "metadata": {},
   "outputs": [],
   "source": [
    "fp = '/data/users2/ibatta/projects/deepsubspace/out/results/mt_AN3DdrlrMx_fkey_lT1_scorename_labels_3way_iter_10_nc_2_rep_0_bs_32_lr_0.0001_espat_20/fimsal.pkl'\n",
    "with open(fp,'rb') as f:\n",
    "    sal = pickle.load(f)\n"
   ]
  },
  {
   "cell_type": "code",
   "execution_count": null,
   "metadata": {},
   "outputs": [],
   "source": [
    "sal.shape"
   ]
  },
  {
   "cell_type": "code",
   "execution_count": null,
   "metadata": {},
   "outputs": [],
   "source": [
    "def myminmax(X, axis=0):\n",
    "    return X*np.sum(X)\n",
    "\n",
    "c = np.apply_over_axes(myminmax, a, [0,1])"
   ]
  },
  {
   "cell_type": "code",
   "execution_count": null,
   "metadata": {},
   "outputs": [],
   "source": [
    "sal = np.moveaxis(sal,0,-1)\n",
    "nib.save(nib.Nifti1Image(sal[0], np.eye(4)), 'test.nii')"
   ]
  },
  {
   "cell_type": "code",
   "execution_count": null,
   "metadata": {},
   "outputs": [],
   "source": [
    "c[0,0,0,0,0]"
   ]
  },
  {
   "cell_type": "code",
   "execution_count": null,
   "metadata": {},
   "outputs": [],
   "source": []
  },
  {
   "cell_type": "code",
   "execution_count": null,
   "metadata": {},
   "outputs": [],
   "source": [
    "b.shape"
   ]
  },
  {
   "cell_type": "code",
   "execution_count": null,
   "metadata": {},
   "outputs": [],
   "source": [
    "reload(ut)"
   ]
  },
  {
   "cell_type": "code",
   "execution_count": null,
   "metadata": {},
   "outputs": [],
   "source": [
    "mdpath = '../out/modelout/model_state_dict.pt'\n",
    "cfpath = '../out/modelout/config.pkl'\n",
    "\n",
    "# model = AN3Ddr_lowresMax(num_classes=2, num_channels=1, num_groups=1)\n",
    "\n",
    "cfg = ut.loadCfg(cfpath)\n",
    "cfg.ml = '../out/modelout/'\n",
    "model = ut.loadNet(cfg)\n",
    "\n",
    "model.load_state_dict(torch.load(mdpath))\n",
    "model.eval()\n"
   ]
  },
  {
   "cell_type": "code",
   "execution_count": null,
   "metadata": {},
   "outputs": [],
   "source": [
    "dataloader = ut.loadData(cfg, 'te')"
   ]
  },
  {
   "cell_type": "code",
   "execution_count": null,
   "metadata": {},
   "outputs": [],
   "source": [
    "for _, data in enumerate(dataloader, 0):\n",
    "    inputs, labels = data\n",
    "    break"
   ]
  },
  {
   "cell_type": "code",
   "execution_count": null,
   "metadata": {},
   "outputs": [],
   "source": [
    "inputs.shape"
   ]
  },
  {
   "cell_type": "code",
   "execution_count": null,
   "metadata": {},
   "outputs": [],
   "source": [
    "tempmask = np.ones(inputs.shape[2:])"
   ]
  },
  {
   "cell_type": "code",
   "execution_count": null,
   "metadata": {},
   "outputs": [],
   "source": [
    "tempmask.shape"
   ]
  },
  {
   "cell_type": "code",
   "execution_count": null,
   "metadata": {},
   "outputs": [],
   "source": [
    "inputs = inputs.cpu()\n",
    "model = model.cpu()\n",
    "ut.run_saliency('../out/modelout/','BP', inputs, model, tempmask, 'labels_3way','clx')"
   ]
  },
  {
   "cell_type": "code",
   "execution_count": null,
   "metadata": {},
   "outputs": [],
   "source": []
  },
  {
   "cell_type": "code",
   "execution_count": null,
   "metadata": {},
   "outputs": [],
   "source": [
    "a,b,c,d = ut.sensitivity_analysis(model, inputs, tempmask, cuda=False)"
   ]
  },
  {
   "cell_type": "code",
   "execution_count": null,
   "metadata": {},
   "outputs": [],
   "source": []
  },
  {
   "cell_type": "code",
   "execution_count": null,
   "metadata": {},
   "outputs": [],
   "source": [
    "d = '/data/users2/ibatta/data/features/fmrimeasures/ADNI/nii/002_S_6007/Axial_rsfMRI__Eyes_Open_/2017-03-31_10_40_49.0/S551365/rest/'\n",
    "\n",
    "f1 = nib.load(d+'swarest1_tsavg.nii').get_fdata()\n",
    "f2 = nib.load(d+'swarest1_ALFF.nii').get_fdata()\n"
   ]
  },
  {
   "cell_type": "code",
   "execution_count": null,
   "metadata": {},
   "outputs": [],
   "source": [
    "np.prod(f1.shape)"
   ]
  },
  {
   "cell_type": "code",
   "execution_count": null,
   "metadata": {},
   "outputs": [],
   "source": [
    "(f1-f2 > 10).sum()"
   ]
  },
  {
   "cell_type": "code",
   "execution_count": null,
   "metadata": {},
   "outputs": [],
   "source": [
    "f1 = (f1 - f1.min()) / (f1.max()-f1.min())\n",
    "f2 = (f2 - f2.min()) / (f2.max()-f2.min())\n"
   ]
  },
  {
   "cell_type": "code",
   "execution_count": null,
   "metadata": {},
   "outputs": [],
   "source": [
    "(f1-f2 > 0.01).sum()"
   ]
  },
  {
   "cell_type": "code",
   "execution_count": null,
   "metadata": {},
   "outputs": [],
   "source": []
  },
  {
   "cell_type": "code",
   "execution_count": null,
   "metadata": {},
   "outputs": [],
   "source": [
    "fl = '/data/qneuromark/Data/ADNI/Updated/fMRI/ADNI/177_S_6335/Axial_MB_rsfMRI__Eyes_Open_/2020-07-22_12_56_01.0/S951207/rest/swarest1.nii'\n",
    "dl = nib.load(fl).get_fdata()\n"
   ]
  },
  {
   "cell_type": "code",
   "execution_count": null,
   "metadata": {},
   "outputs": [],
   "source": [
    "basedir='/data/qneuromark/Data/ADNI/Updated/fMRI/Results/GIGICA/041_S_6401/Axial_rsfMRI__Eyes_Open_/2018-06-12_13_51_03.0/S694594/rest/swarest1/'\n",
    "f1 = 'adni_aa__sub01_component_ica_s1_.nii'\n",
    "f2 = 'adni_aa__ica_c1-1.mat'\n",
    "\n"
   ]
  },
  {
   "cell_type": "code",
   "execution_count": null,
   "metadata": {},
   "outputs": [],
   "source": [
    "d1 = nib.load(basedir + f1).get_fdata()"
   ]
  },
  {
   "cell_type": "code",
   "execution_count": null,
   "metadata": {},
   "outputs": [],
   "source": [
    "d2 = loadmat(basedir + f2)"
   ]
  },
  {
   "cell_type": "code",
   "execution_count": null,
   "metadata": {},
   "outputs": [],
   "source": [
    "d2.keys()"
   ]
  },
  {
   "cell_type": "code",
   "execution_count": null,
   "metadata": {},
   "outputs": [],
   "source": [
    "d1.shape"
   ]
  },
  {
   "cell_type": "code",
   "execution_count": null,
   "metadata": {},
   "outputs": [],
   "source": [
    "d2['ic'].shape, d2['tc'].shape"
   ]
  },
  {
   "cell_type": "code",
   "execution_count": null,
   "metadata": {},
   "outputs": [],
   "source": [
    "53*63*52, 66529*194"
   ]
  },
  {
   "attachments": {},
   "cell_type": "markdown",
   "metadata": {},
   "source": [
    "##  QC "
   ]
  },
  {
   "attachments": {},
   "cell_type": "markdown",
   "metadata": {},
   "source": [
    "### Constant Valued Scans"
   ]
  },
  {
   "cell_type": "code",
   "execution_count": null,
   "metadata": {},
   "outputs": [],
   "source": [
    "dataset = 'ADNI'\n",
    "filemapper = json.load(open('../in/filemapper.json','r'))\n",
    "\n",
    "measures = list(filemapper['filename']['ADNI'].keys())\n",
    "\n",
    "nanfiles = []\n",
    "numnans = []\n",
    "badfiles = []\n",
    "\n",
    "for m in measures: \n",
    "    basepath_mapper = filemapper['basepathmapper'][dataset][m]\n",
    "    basedir = filemapper['basedir'][dataset][basepath_mapper]\n",
    "    # basedir = '/data/qneuromark/Data/ADNI/Updated/fMRI/ADNI/'\n",
    "    filename = filemapper['filename']['ADNI'][m]\n",
    "    # filename = 'swarest1.nii'\n",
    "    for dir in open('../in/%s_MMR180.csv'%basepath_mapper,'r+').read().split('\\n')[:-1]:\n",
    "        fullpath = basedir + dir + filename\n",
    "        scandata = nib.load(fullpath).get_fdata()\n",
    "        if np.isnan(scandata).sum() > 0:\n",
    "            nn = np.isnan(scandata).sum()\n",
    "            print(nn)\n",
    "            print(fullpath)\n",
    "            nanfiles.append(fullpath)\n",
    "            numnans.append(nn)\n",
    "        if np.abs(np.std(scandata)) < 0.001:\n",
    "            print(np.abs(np.std(scandata)))\n",
    "            print(fullpath)\n",
    "            badfiles.append(fullpath)\n",
    "\n",
    "\n"
   ]
  },
  {
   "cell_type": "code",
   "execution_count": null,
   "metadata": {},
   "outputs": [],
   "source": []
  },
  {
   "cell_type": "code",
   "execution_count": null,
   "metadata": {},
   "outputs": [],
   "source": [
    "with open('../in/badfiles_measures.txt','w+') as f:\n",
    "    f.write('\\n'.join(badfiles))\n",
    "\n",
    "with open('../in/numnans_measures.txt','w+') as f:\n",
    "    f.write('\\n'.join(['%s,%d'%(nanfiles[i],numnans[i]) for i in range(len(nanfiles))]))\n",
    "    "
   ]
  },
  {
   "cell_type": "code",
   "execution_count": null,
   "metadata": {},
   "outputs": [],
   "source": [
    "len(['ALFF', 'DCw', 'DCb', 'fALFF', 'KccReHo', 'VMHC', 'lT1', 'ALFF,DCw,DCb,fALFF,KccReHo,VMHC,lT1', 'ALFF,lT1', 'DCw,lT1', 'DCb,lT1', 'fALFF,lT1', 'KccReHo,lT1', 'VMHC,lT1'])"
   ]
  },
  {
   "attachments": {},
   "cell_type": "markdown",
   "metadata": {},
   "source": [
    "### Imputations"
   ]
  },
  {
   "cell_type": "code",
   "execution_count": null,
   "metadata": {},
   "outputs": [],
   "source": []
  },
  {
   "cell_type": "code",
   "execution_count": null,
   "metadata": {},
   "outputs": [],
   "source": [
    "with open('../in/vars.txt', 'r+') as f:\n",
    "    scores = f.read().split('\\n')[:-1]\n",
    "scores_file = '../in/analysis_SCORE_SMRI_relP.csv'\n",
    "df = pd.read_csv(scores_file)\n"
   ]
  },
  {
   "cell_type": "code",
   "execution_count": null,
   "metadata": {},
   "outputs": [],
   "source": [
    "print(df['age'].dtype)"
   ]
  },
  {
   "cell_type": "code",
   "execution_count": null,
   "metadata": {},
   "outputs": [],
   "source": [
    "scores = 'age,Sex,APOE4,FDG,ABETA,TAU,PTAU,CDRSB,ADAS11,ADAS13,MMSE,RAVLT,LDELTOTAL,DIGITSCOR,TRABSCOR,FAQ'.split(',')"
   ]
  },
  {
   "cell_type": "code",
   "execution_count": null,
   "metadata": {},
   "outputs": [],
   "source": [
    "\n",
    "for score in scores:\n",
    "    print('%s, %s'%(score,df[score].dtype))\n",
    "    dt = df[score].dtype\n",
    "    if not 'float' in str(dt):\n",
    "        df[score] = df[score].fillna(df[score].mode())\n",
    "    else:\n",
    "        df[score] = df[score].fillna(df[score].median())\n",
    "\n",
    "df.to_csv('../in/analysis_SCORE_SMRI_relP_imputed.csv',  index=False)"
   ]
  },
  {
   "cell_type": "code",
   "execution_count": null,
   "metadata": {},
   "outputs": [],
   "source": [
    "output_file = '../out/performances/baseline/allcombos_baseline_reg.png '"
   ]
  },
  {
   "cell_type": "code",
   "execution_count": null,
   "metadata": {},
   "outputs": [],
   "source": [
    "pval_file = '.'.join(output_file.split('.')[:-1]) + '_pvals.' + output_file.split('.')[-1]"
   ]
  },
  {
   "cell_type": "code",
   "execution_count": null,
   "metadata": {},
   "outputs": [],
   "source": []
  },
  {
   "cell_type": "code",
   "execution_count": null,
   "metadata": {},
   "outputs": [],
   "source": [
    "fns = ['tsavg','tsmedian','tsmax','tsmin']\n",
    "    # fns.remove('hT1')\n",
    "    # fns.remove('PerAF')\n",
    "    # fns.append(','.join(fns)) #multimodal with all features into DL model\n",
    "    fns += [fi+',lT1' for fi in fns if 'lT1' not in fi] # multimodal with 2 modalities: with one fmri measure with low-res smri \n",
    "    # fns.append(','.join([','.join(fns) for i in range(8)] )) # Testing 56 groups for future  \n",
    "    print(fns)\n",
    "\n",
    "    # # Map iter value (slurm taskID) to training sample size (tss) and crossvalidation repetition (rep)\n",
    "    fv, rv = np.meshgrid(np.arange(len(fns)), np.arange(cfg.nReps))\n",
    "    fv = fv.reshape((1, np.prod(fv.shape)))\n",
    "    rv = rv.reshape((1, np.prod(rv.shape)))\n",
    "    fkey = fns[fv[0][cfg.iter]]\n",
    "    rep = rv[0][cfg.iter]\n",
    "    print(fkey, rep)\n",
    "    cfg.fkey = fkey\n",
    "    cfg.nch = len(fkey.split(','))\n",
    "    cfg.rep = rep\n",
    "    print(cfg.iter, cfg.tss, cfg.rep)\n"
   ]
  },
  {
   "cell_type": "code",
   "execution_count": null,
   "metadata": {},
   "outputs": [],
   "source": [
    "fm = json.load(open('../in/filemapper.json','r'))"
   ]
  },
  {
   "cell_type": "code",
   "execution_count": null,
   "metadata": {},
   "outputs": [],
   "source": [
    "fns = list(fm['filename']['ADNI'].keys())"
   ]
  },
  {
   "cell_type": "code",
   "execution_count": null,
   "metadata": {},
   "outputs": [],
   "source": [
    "len(fns)"
   ]
  },
  {
   "cell_type": "code",
   "execution_count": null,
   "metadata": {},
   "outputs": [],
   "source": [
    "fns = ['tsavg','tsmedian','tsmax','tsmin']\n",
    "# fns.remove('hT1')\n",
    "# fns.remove('PerAF')\n",
    "# fns.append(','.join(fns)) #multimodal with all features into DL model\n",
    "fns += [fi+',lT1' for fi in fns if 'lT1' not in fi] # multimodal with 2 modalities: with one fmri measure with low-res smri "
   ]
  },
  {
   "cell_type": "code",
   "execution_count": null,
   "metadata": {},
   "outputs": [],
   "source": [
    "i = 8\n",
    "fv, rv, sv = np.meshgrid(np.arange(len(fns)), np.arange(10), np.arange(8))\n",
    "fv = fv.reshape((1, np.prod(fv.shape)))\n",
    "rv = rv.reshape((1, np.prod(rv.shape)))\n",
    "sv = sv.reshape((1, np.prod(sv.shape)))\n",
    "\n",
    "for i in range(80):\n",
    "    fkey = fns[fv[0][i]]\n",
    "    rep = rv[0][i]\n",
    "    scr = sv[0][i]\n",
    "    print(fkey, rep, scr)"
   ]
  },
  {
   "cell_type": "code",
   "execution_count": null,
   "metadata": {},
   "outputs": [],
   "source": [
    "fv.shape, rv.shape, sv.shape"
   ]
  },
  {
   "cell_type": "code",
   "execution_count": null,
   "metadata": {},
   "outputs": [],
   "source": [
    "i = 8\n",
    "fns.remove('hT1')\n",
    "fns.remove('PerAF')\n",
    "\n",
    "fv, rv = np.meshgrid(np.arange(len(fns)), np.arange(10))\n",
    "fv = fv.reshape((1, np.prod(fv.shape)))\n",
    "rv = rv.reshape((1, np.prod(rv.shape)))\n",
    "\n",
    "for i in range(80):\n",
    "    fkey = fns[fv[0][i]]\n",
    "    rep = rv[0][i]\n",
    "    \n",
    "    print(i,fkey, rep)"
   ]
  },
  {
   "cell_type": "code",
   "execution_count": null,
   "metadata": {},
   "outputs": [],
   "source": [
    "def summarize_config(config_string):\n",
    "    \"\"\"\n",
    "    Computes the set of test accuracy for the string corresponding to the config_string. \n",
    "    The config strings should represent one of the directory. \n",
    "    \"\"\"\n",
    "\n",
    "    basedir = '../out/results/latest/'\n",
    "    cmd = 'cat %s%s/test.csv | grep -v acc_te | cut -f2 -d\\\",\\\"'%(basedir,config_string)\n",
    "    output_stream = os.popen(cmd)\n",
    "    test_accs = np.array(output_stream.read().split('\\n')[:-1], dtype=float)\n",
    "    return test_accs"
   ]
  },
  {
   "cell_type": "code",
   "execution_count": null,
   "metadata": {},
   "outputs": [],
   "source": [
    "config_string = 'AN3Ddr_lowresMax_fkey_ALFF_scorename_labels_3way_iter_*_nc_2_rep_*_bs_32_lr_1e-05_espat_20'"
   ]
  },
  {
   "cell_type": "code",
   "execution_count": null,
   "metadata": {},
   "outputs": [],
   "source": [
    "t = summarize_config(config_string)"
   ]
  },
  {
   "cell_type": "code",
   "execution_count": null,
   "metadata": {},
   "outputs": [],
   "source": []
  },
  {
   "cell_type": "code",
   "execution_count": null,
   "metadata": {},
   "outputs": [],
   "source": [
    "len(t)"
   ]
  },
  {
   "cell_type": "code",
   "execution_count": null,
   "metadata": {},
   "outputs": [],
   "source": [
    "t = summarize_config('AN3Ddr_lowresMax_fkey_ALFF_scorename_labels_3way_iter_*_nc_2_rep_*_bs_32_lr_1e-05_espat_20')"
   ]
  },
  {
   "cell_type": "code",
   "execution_count": null,
   "metadata": {},
   "outputs": [],
   "source": [
    "\n",
    "n = 30\n",
    "k_te = 4\n",
    "k_va = 5\n",
    "nreps = 3\n",
    "\n",
    "all_labels = np.array(list(range(0,30)), dtype=int) // 10\n",
    "\n",
    "# selelct specific labels if needed for binary classification\n",
    "select_labels = [0,2]\n",
    "labels = np.array([li for li in all_labels if li in select_labels], dtype=int)\n",
    "sli = np.array([i for i in range(len(all_labels)) if all_labels[i] in select_labels], dtype=int)\n",
    "\n",
    "\n",
    "for ri in np.arange(nreps):\n",
    "\ttri, test_indices = train_test_split(np.arange(len(labels)), test_size=1.0/k_te, shuffle=True, stratify=labels, random_state=108+ri)\n",
    "\ttr_idx, val_idx = train_test_split(np.arange(len(tri)), test_size=1/k_va, shuffle=True, stratify=labels[tri], random_state=108+ri)\n",
    "\ttrain_indices, val_indices = tri[tr_idx], tri[val_idx]\n",
    "\n",
    "\tprint(all_labels[sli[train_indices]], all_labels[sli[val_indices]], all_labels[sli[test_indices]])\n",
    "    \n"
   ]
  },
  {
   "cell_type": "code",
   "execution_count": null,
   "metadata": {},
   "outputs": [],
   "source": [
    "np.loadtxt('../out/temp1.txt').mean()"
   ]
  },
  {
   "cell_type": "code",
   "execution_count": null,
   "metadata": {},
   "outputs": [],
   "source": [
    "np.loadtxt('../out/temp2.txt').mean()"
   ]
  },
  {
   "cell_type": "code",
   "execution_count": null,
   "metadata": {},
   "outputs": [],
   "source": []
  },
  {
   "cell_type": "code",
   "execution_count": null,
   "metadata": {},
   "outputs": [],
   "source": [
    "\n",
    "\n",
    "\tnp.savetxt(outdir+'/tr_r'+str(ri)+'.csv', train_indices, fmt='%d')\n",
    "\tnp.savetxt(outdir+'/va_r'+str(ri)+'.csv', val_indices, fmt='%d')\n",
    "\tnp.savetxt(outdir+'/te_r'+str(ri)+'.csv', test_indices, fmt='%d')\n",
    "\n"
   ]
  },
  {
   "cell_type": "code",
   "execution_count": null,
   "metadata": {},
   "outputs": [],
   "source": [
    "from sklearn.model_selection import train_test_split\n",
    "\n",
    "tr, va = train_test_split(np.arange(n), test_size=0.2)"
   ]
  },
  {
   "cell_type": "code",
   "execution_count": null,
   "metadata": {},
   "outputs": [],
   "source": [
    "tr, va"
   ]
  },
  {
   "cell_type": "code",
   "execution_count": null,
   "metadata": {},
   "outputs": [],
   "source": [
    "import pandas as pd \n",
    "# Try Merge\n",
    "fl = '../in/lowresfilelist_ADNI_SMRI.txt'\n",
    "sm = '../in/analysis_SCORE_SMRI_fpL.csv'\n",
    "\n",
    "df_fl = pd.read_csv(fl)\n",
    "df_sm = pd.read_csv(sm).iloc[idx]\n"
   ]
  },
  {
   "cell_type": "code",
   "execution_count": null,
   "metadata": {},
   "outputs": [],
   "source": [
    "for iter in range(12):\n",
    "    tv, rv = np.meshgrid([], np.arange(3))\n",
    "    tv = tv.reshape((1, np.prod(tv.shape)))\n",
    "    rv = rv.reshape((1, np.prod(tv.shape)))\n",
    "    tss = tv[0][iter]\n",
    "    rep = rv[0][iter]\n",
    "    print(tss, rep)"
   ]
  },
  {
   "attachments": {},
   "cell_type": "markdown",
   "metadata": {},
   "source": [
    "## Ray Tune"
   ]
  },
  {
   "cell_type": "code",
   "execution_count": null,
   "metadata": {},
   "outputs": [],
   "source": [
    "import numpy as np\n",
    "import os\n",
    "import torch\n",
    "import torch.nn as nn\n",
    "import torch.nn.functional as F\n",
    "import torch.optim as optim\n",
    "from filelock import FileLock\n",
    "from torch.utils.data import random_split\n",
    "import torchvision\n",
    "import torchvision.transforms as transforms\n",
    "import ray\n",
    "from ray import tune\n",
    "from ray.air import session\n",
    "from ray.air.checkpoint import Checkpoint\n",
    "from ray.tune.schedulers import ASHAScheduler"
   ]
  },
  {
   "cell_type": "code",
   "execution_count": null,
   "metadata": {},
   "outputs": [],
   "source": [
    "# DATA LOADERS\n",
    "def load_data(data_dir=\"./data\"):\n",
    "    transform = transforms.Compose([\n",
    "        transforms.ToTensor(),\n",
    "        transforms.Normalize((0.5, 0.5, 0.5), (0.5, 0.5, 0.5))\n",
    "    ])\n",
    "\n",
    "    # We add FileLock here because multiple workers will want to\n",
    "    # download data, and this may cause overwrites since\n",
    "    # DataLoader is not threadsafe.\n",
    "    with FileLock(os.path.expanduser(\"~/.data.lock\")):\n",
    "        trainset = torchvision.datasets.CIFAR10(\n",
    "            root=data_dir, train=True, download=True, transform=transform)\n",
    "\n",
    "        testset = torchvision.datasets.CIFAR10(\n",
    "            root=data_dir, train=False, download=True, transform=transform)\n",
    "\n",
    "    return trainset, testset"
   ]
  },
  {
   "cell_type": "code",
   "execution_count": null,
   "metadata": {},
   "outputs": [],
   "source": [
    "class Net(nn.Module):\n",
    "    def __init__(self, l1=120, l2=84):\n",
    "        super(Net, self).__init__()\n",
    "        self.conv1 = nn.Conv2d(3, 6, 5)\n",
    "        self.pool = nn.MaxPool2d(2, 2)\n",
    "        self.conv2 = nn.Conv2d(6, 16, 5)\n",
    "        self.fc1 = nn.Linear(16 * 5 * 5, l1)\n",
    "        self.fc2 = nn.Linear(l1, l2)\n",
    "        self.fc3 = nn.Linear(l2, 10)\n",
    "\n",
    "    def forward(self, x):\n",
    "        x = self.pool(F.relu(self.conv1(x)))\n",
    "        x = self.pool(F.relu(self.conv2(x)))\n",
    "        x = x.view(-1, 16 * 5 * 5)\n",
    "        x = F.relu(self.fc1(x))\n",
    "        x = F.relu(self.fc2(x))\n",
    "        x = self.fc3(x)\n",
    "        return x"
   ]
  },
  {
   "cell_type": "code",
   "execution_count": null,
   "metadata": {},
   "outputs": [],
   "source": [
    "def train_cifar(config):\n",
    "    net = Net(config[\"l1\"], config[\"l2\"])\n",
    "\n",
    "    device = \"cpu\"\n",
    "    if torch.cuda.is_available():\n",
    "        device = \"cuda:0\"\n",
    "        if torch.cuda.device_count() > 1:\n",
    "            net = nn.DataParallel(net)\n",
    "    net.to(device)\n",
    "\n",
    "    criterion = nn.CrossEntropyLoss()\n",
    "    optimizer = optim.SGD(net.parameters(), lr=config[\"lr\"], momentum=0.9)\n",
    "\n",
    "    # To restore a checkpoint, use `session.get_checkpoint()`.\n",
    "    loaded_checkpoint = session.get_checkpoint()\n",
    "    if loaded_checkpoint:\n",
    "        with loaded_checkpoint.as_directory() as loaded_checkpoint_dir:\n",
    "           model_state, optimizer_state = torch.load(os.path.join(loaded_checkpoint_dir, \"checkpoint.pt\"))\n",
    "        net.load_state_dict(model_state)\n",
    "        optimizer.load_state_dict(optimizer_state)\n",
    "\n",
    "    data_dir = os.path.abspath(\"./data\")\n",
    "    trainset, testset = load_data(data_dir)\n",
    "\n",
    "    test_abs = int(len(trainset) * 0.8)\n",
    "    train_subset, val_subset = random_split(\n",
    "        trainset, [test_abs, len(trainset) - test_abs])\n",
    "\n",
    "    trainloader = torch.utils.data.DataLoader(\n",
    "        train_subset,\n",
    "        batch_size=int(config[\"batch_size\"]),\n",
    "        shuffle=True,\n",
    "        num_workers=8)\n",
    "    valloader = torch.utils.data.DataLoader(\n",
    "        val_subset,\n",
    "        batch_size=int(config[\"batch_size\"]),\n",
    "        shuffle=True,\n",
    "        num_workers=8)\n",
    "\n",
    "    for epoch in range(10):  # loop over the dataset multiple times\n",
    "        running_loss = 0.0\n",
    "        epoch_steps = 0\n",
    "        for i, data in enumerate(trainloader, 0):\n",
    "            # get the inputs; data is a list of [inputs, labels]\n",
    "            inputs, labels = data\n",
    "            inputs, labels = inputs.to(device), labels.to(device)\n",
    "\n",
    "            # zero the parameter gradients\n",
    "            optimizer.zero_grad()\n",
    "\n",
    "            # forward + backward + optimize\n",
    "            outputs = net(inputs)\n",
    "            \n",
    "            loss = criterion(outputs, labels)\n",
    "            loss.backward()\n",
    "            optimizer.step()\n",
    "\n",
    "            # print statistics\n",
    "            running_loss += loss.item()\n",
    "            epoch_steps += 1\n",
    "            if i % 2000 == 1999:  # print every 2000 mini-batches\n",
    "                print(\"[%d, %5d] loss: %.3f\" % (epoch + 1, i + 1,\n",
    "                                                running_loss / epoch_steps))\n",
    "                running_loss = 0.0\n",
    "\n",
    "        # Validation loss\n",
    "        val_loss = 0.0\n",
    "        val_steps = 0\n",
    "        total = 0\n",
    "        correct = 0\n",
    "        for i, data in enumerate(valloader, 0):\n",
    "            with torch.no_grad():\n",
    "                inputs, labels = data\n",
    "                inputs, labels = inputs.to(device), labels.to(device)\n",
    "\n",
    "                outputs = net(inputs)\n",
    "                _, predicted = torch.max(outputs.data, 1)\n",
    "                total += labels.size(0)\n",
    "                correct += (predicted == labels).sum().item()\n",
    "\n",
    "                loss = criterion(outputs, labels)\n",
    "                val_loss += loss.cpu().numpy()\n",
    "                val_steps += 1\n",
    "\n",
    "        # Here we save a checkpoint. It is automatically registered with\n",
    "        # Ray Tune and can be accessed through `session.get_checkpoint()`\n",
    "        # API in future iterations.\n",
    "        os.makedirs(\"my_model\", exist_ok=True)\n",
    "        torch.save(\n",
    "            (net.state_dict(), optimizer.state_dict()), \"my_model/checkpoint.pt\")\n",
    "        checkpoint = Checkpoint.from_directory(\"my_model\")\n",
    "        session.report({\"loss\": (val_loss / val_steps), \"accuracy\": correct / total}, checkpoint=checkpoint)\n",
    "    print(\"Finished Training\")"
   ]
  },
  {
   "cell_type": "code",
   "execution_count": null,
   "metadata": {},
   "outputs": [],
   "source": [
    "def test_best_model(best_result):\n",
    "    best_trained_model = Net(best_result.config[\"l1\"], best_result.config[\"l2\"])\n",
    "    device = \"cuda:0\" if torch.cuda.is_available() else \"cpu\"\n",
    "    best_trained_model.to(device)\n",
    "\n",
    "    checkpoint_path = os.path.join(best_result.checkpoint.to_directory(), \"checkpoint.pt\")\n",
    "\n",
    "    model_state, optimizer_state = torch.load(checkpoint_path)\n",
    "    best_trained_model.load_state_dict(model_state)\n",
    "\n",
    "    trainset, testset = load_data()\n",
    "\n",
    "    testloader = torch.utils.data.DataLoader(\n",
    "        testset, batch_size=4, shuffle=False, num_workers=2)\n",
    "\n",
    "    correct = 0\n",
    "    total = 0\n",
    "    with torch.no_grad():\n",
    "        for data in testloader:\n",
    "            images, labels = data\n",
    "            images, labels = images.to(device), labels.to(device)\n",
    "            outputs = best_trained_model(images)\n",
    "            _, predicted = torch.max(outputs.data, 1)\n",
    "            total += labels.size(0)\n",
    "            correct += (predicted == labels).sum().item()\n",
    "\n",
    "\n",
    "    print(\"Best trial test set accuracy: {}\".format(correct / total))"
   ]
  },
  {
   "cell_type": "code",
   "execution_count": null,
   "metadata": {},
   "outputs": [],
   "source": [
    "config = {\n",
    "    \"l1\": tune.sample_from(lambda _: 2**np.random.randint(2, 9)),\n",
    "    \"l2\": tune.sample_from(lambda _: 2**np.random.randint(2, 9)),\n",
    "    \"lr\": tune.loguniform(1e-4, 1e-1),\n",
    "    \"batch_size\": tune.choice([2, 4, 8, 16]),\n",
    "}"
   ]
  },
  {
   "cell_type": "code",
   "execution_count": null,
   "metadata": {},
   "outputs": [],
   "source": [
    "def main(num_samples=10, max_num_epochs=10, gpus_per_trial=2):\n",
    "    config = {\n",
    "        \"l1\": tune.sample_from(lambda _: 2 ** np.random.randint(2, 9)),\n",
    "        \"l2\": tune.sample_from(lambda _: 2 ** np.random.randint(2, 9)),\n",
    "        \"lr\": tune.loguniform(1e-4, 1e-1),\n",
    "        \"batch_size\": tune.choice([2, 4, 8, 16])\n",
    "    }\n",
    "    scheduler = ASHAScheduler(\n",
    "        max_t=max_num_epochs,\n",
    "        grace_period=1,\n",
    "        reduction_factor=2)\n",
    "    \n",
    "    tuner = tune.Tuner(\n",
    "        tune.with_resources(\n",
    "            tune.with_parameters(train_cifar),\n",
    "            resources={\"cpu\": 2, \"gpu\": gpus_per_trial}\n",
    "        ),\n",
    "        tune_config=tune.TuneConfig(\n",
    "            metric=\"loss\",\n",
    "            mode=\"min\",\n",
    "            scheduler=scheduler,\n",
    "            num_samples=num_samples,\n",
    "        ),\n",
    "        param_space=config,\n",
    "    )\n",
    "    results = tuner.fit()\n",
    "    \n",
    "    best_result = results.get_best_result(\"loss\", \"min\")\n",
    "\n",
    "    print(\"Best trial config: {}\".format(best_result.config))\n",
    "    print(\"Best trial final validation loss: {}\".format(\n",
    "        best_result.metrics[\"loss\"]))\n",
    "    print(\"Best trial final validation accuracy: {}\".format(\n",
    "        best_result.metrics[\"accuracy\"]))\n",
    "\n",
    "    test_best_model(best_result)\n",
    "\n",
    "main(num_samples=2, max_num_epochs=2, gpus_per_trial=0)"
   ]
  },
  {
   "cell_type": "code",
   "execution_count": null,
   "metadata": {},
   "outputs": [],
   "source": []
  }
 ],
 "metadata": {
  "kernelspec": {
   "display_name": "AA_DL2",
   "language": "python",
   "name": "python3"
  },
  "language_info": {
   "codemirror_mode": {
    "name": "ipython",
    "version": 3
   },
   "file_extension": ".py",
   "mimetype": "text/x-python",
   "name": "python",
   "nbconvert_exporter": "python",
   "pygments_lexer": "ipython3",
   "version": "3.7.9"
  },
  "orig_nbformat": 4,
  "vscode": {
   "interpreter": {
    "hash": "7f89dc90b8ce3db6e3c871b8c318edc37b911bdfa52c259173116bc55490ddb5"
   }
  }
 },
 "nbformat": 4,
 "nbformat_minor": 2
}
